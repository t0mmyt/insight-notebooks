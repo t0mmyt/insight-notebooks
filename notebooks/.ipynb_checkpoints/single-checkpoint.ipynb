{
 "cells": [
  {
   "cell_type": "code",
   "execution_count": 1,
   "id": "7fca742289edbf5",
   "metadata": {
    "ExecuteTime": {
     "end_time": "2023-10-09T02:58:33.492559Z",
     "start_time": "2023-10-09T02:58:33.477939Z"
    },
    "collapsed": true
   },
   "outputs": [],
   "source": [
    "%load_ext autoreload\n",
    "%autoreload 1"
   ]
  },
  {
   "cell_type": "code",
   "execution_count": 2,
   "id": "initial_id",
   "metadata": {
    "ExecuteTime": {
     "end_time": "2023-10-09T02:58:34.251075Z",
     "start_time": "2023-10-09T02:58:33.491738Z"
    }
   },
   "outputs": [],
   "source": [
    "import ipywidgets as widgets\n",
    "from IPython.display import display\n",
    "import os\n",
    "from datetime import timedelta\n",
    "\n",
    "import obspy\n",
    "import pandas as pd\n",
    "from matplotlib import pyplot as plt\n",
    "from obspy import UTCDateTime\n",
    "\n",
    "from insight.util import TraceFile, snr"
   ]
  },
  {
   "cell_type": "code",
   "execution_count": 13,
   "id": "b10a4ab7be30750",
   "metadata": {
    "ExecuteTime": {
     "end_time": "2023-10-09T03:07:57.739122Z",
     "start_time": "2023-10-09T03:07:57.730205Z"
    }
   },
   "outputs": [
    {
     "data": {
      "application/vnd.jupyter.widget-view+json": {
       "model_id": "c450d66a017e4312bef8eeb9292676f3",
       "version_major": 2,
       "version_minor": 0
      },
      "text/plain": [
       "Dropdown(options=('S1222a', 'S0976a', 'S1000a', 'S1094b', 'S1133c', 'S0235b', 'S0173a', 'S1048d', 'S1022a', 'S…"
      ]
     },
     "metadata": {},
     "output_type": "display_data"
    }
   ],
   "source": [
    "DATA_DIR = \"../data/\"\n",
    "CAT_FILE = \"a_quality.parquet\"\n",
    "network, station, location = \"XB\", \"ELYSE\", \"02\"\n",
    "events = pd.read_parquet(os.path.join(DATA_DIR, CAT_FILE))\n",
    "event = widgets.Dropdown(options=events.index)\n",
    "display(event)"
   ]
  },
  {
   "cell_type": "code",
   "execution_count": null,
   "id": "725cf10def54094c",
   "metadata": {},
   "outputs": [],
   "source": []
  }
 ],
 "metadata": {
  "kernelspec": {
   "display_name": "Python 3 (ipykernel)",
   "language": "python",
   "name": "python3"
  },
  "language_info": {
   "codemirror_mode": {
    "name": "ipython",
    "version": 3
   },
   "file_extension": ".py",
   "mimetype": "text/x-python",
   "name": "python",
   "nbconvert_exporter": "python",
   "pygments_lexer": "ipython3",
   "version": "3.11.5"
  }
 },
 "nbformat": 4,
 "nbformat_minor": 5
}
