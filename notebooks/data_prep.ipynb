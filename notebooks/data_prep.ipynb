{
 "cells": [
  {
   "cell_type": "code",
   "execution_count": 1,
   "id": "initial_id",
   "metadata": {
    "collapsed": true,
    "ExecuteTime": {
     "end_time": "2023-09-21T10:57:30.617185Z",
     "start_time": "2023-09-21T10:57:29.852563Z"
    }
   },
   "outputs": [],
   "source": [
    "import os\n",
    "\n",
    "from dateutil.parser import isoparse\n",
    "from obspy import UTCDateTime\n",
    "from obspy.clients.fdsn import Client\n",
    "\n",
    "from insight.catalog import InsightCatalog\n",
    "from insight.rotate import rotate_zne\n",
    "from insight.util import EventDownloader, TraceFile\n",
    "\n",
    "%load_ext autoreload\n",
    "%autoreload 1"
   ]
  },
  {
   "cell_type": "markdown",
   "source": [
    "# Parameters"
   ],
   "metadata": {
    "collapsed": false
   },
   "id": "62ae010e571ebed1"
  },
  {
   "cell_type": "code",
   "execution_count": 2,
   "outputs": [],
   "source": [
    "DATA_DIR = \"../data/\"\n",
    "DATALESS_SEED = \"ELYSE.dataless\"\n",
    "CATALOG_BASE_URL = \"https://www.seis-insight.eu/static/mqs-catalogs/v14/\"\n",
    "CATALOG_STD = \"events_extended_multiorigin_v14_2023-01-01.xml\"\n",
    "CATALOG_EXT = \"events_mars_extended_multiorigin_v14_2023-01-01.xml\"\n",
    "\n",
    "# https://www.iris.edu/hq/sis/insight\n",
    "network = \"XB\"\n",
    "station = \"ELYSE\"\n",
    "location = \"02\"\n",
    "min_ang, max_ang = 30, 90\n",
    "before, after = 10, 120\n",
    "inv_time = UTCDateTime(2020, 1, 1)  # Only used to get channel metadata\n",
    "channels = [\"BHU\", \"BHV\", \"BHW\"]\n",
    "\n",
    "# # RFs\n",
    "# f0 = 2.0\n",
    "# itmax = 400\n",
    "# minderr = 0.001"
   ],
   "metadata": {
    "collapsed": false,
    "ExecuteTime": {
     "end_time": "2023-09-21T10:57:30.620211Z",
     "start_time": "2023-09-21T10:57:30.619075Z"
    }
   },
   "id": "c108e717aae45fc9"
  },
  {
   "cell_type": "markdown",
   "source": [
    "## Fetch Inventory\n",
    "Get lat/lon and sensor orientations from Iris"
   ],
   "metadata": {
    "collapsed": false
   },
   "id": "b641f1dd63638ae1"
  },
  {
   "cell_type": "code",
   "execution_count": 3,
   "outputs": [],
   "source": [
    "client = Client(\"IRIS\")\n",
    "insight = client.get_stations(network=network, station=station, location=location, channel=\"BH?\", level=\"channel\")[0]\n",
    "lat, lon = insight[0].latitude, insight[0].longitude\n",
    "bh_orientations = {\n",
    "    ch: insight.get_orientation(f\"{network}.{station}.{location}.{ch}\", inv_time)\n",
    "    for ch in channels\n",
    "}"
   ],
   "metadata": {
    "collapsed": false,
    "ExecuteTime": {
     "end_time": "2023-09-21T10:57:35.268137Z",
     "start_time": "2023-09-21T10:57:30.622451Z"
    }
   },
   "id": "a4601bcf05b8af6b"
  },
  {
   "cell_type": "markdown",
   "source": [
    "## Build Catalog"
   ],
   "metadata": {
    "collapsed": false
   },
   "id": "c790aafcaf307ecd"
  },
  {
   "cell_type": "code",
   "execution_count": 4,
   "outputs": [
    {
     "data": {
      "text/plain": "                          id        region name                         time  \\\nearthquake name                                                                \nS1415a           mqs2022wrzi  Elysium Southwest    2022-11-19T21:53:34.0000Z   \nS1337a           mqs2022rbsc  Elysium Southwest  2022-08-31T20:23:46.685686Z   \nS1237b           mqs2022jvts  Elysium Southwest  2022-05-20T23:37:51.098952Z   \nS1237a           mqs2022jvst  Elysium Southwest  2022-05-20T23:08:41.115997Z   \nS1235a           mqs2022jrva  Elysium Southwest   2022-05-18T19:45:44.84616Z   \n...                      ...                ...                          ...   \nS0128a           mqs2019gudd  Elysium Southwest    2019-04-07T09:31:52.0000Z   \nS0116a           mqs2019fxyu  Elysium Southwest   2019-03-26T06:22:19.90061Z   \nS0105a           mqs2019fddj   Aeolis Northeast  2019-03-14T20:59:21.050826Z   \nT0046a           mqs2019awjs  Elysium Southwest    2019-01-13T05:53:45.0000Z   \nT0045a           mqs2019aumt  Elysium Southwest    2019-01-12T05:09:39.0000Z   \n\n                quality  mqs_azimuth     mqs_distance  \\\nearthquake name                                         \nS1415a                B  108.8539635  4.951151082e-05   \nS1337a                B  108.8539635  4.951151082e-05   \nS1237b                D  108.8539635  4.951151082e-05   \nS1237a                C  108.8539635  4.951151082e-05   \nS1235a                C  108.8539635  4.951151082e-05   \n...                 ...          ...              ...   \nS0128a                B  108.8539635  4.951151082e-05   \nS0116a                D  108.8539635  4.951151082e-05   \nS0105a                B          112      32.52202202   \nT0046a                D          NaN              NaN   \nT0045a                C          NaN              NaN   \n\n                               est_p_arrival  M_w  \nearthquake name                                    \nS1415a           2022-11-19T21:55:49.119346Z  3.3  \nS1337a           2022-08-31T20:28:46.685686Z  3.3  \nS1237b           2022-05-20T23:40:51.098952Z  NaN  \nS1237a           2022-05-20T23:13:41.115997Z  2.6  \nS1235a            2022-05-18T19:50:44.84616Z  2.7  \n...                                      ...  ...  \nS0128a            2019-04-07T09:33:36.50275Z  2.2  \nS0116a            2019-03-26T06:27:19.90061Z  NaN  \nS0105a           2019-03-14T21:03:28.123118Z  2.9  \nT0046a             2019-01-13T05:54:05.0000Z  NaN  \nT0045a             2019-01-12T05:09:59.0000Z  NaN  \n\n[2715 rows x 8 columns]",
      "text/html": "<div>\n<style scoped>\n    .dataframe tbody tr th:only-of-type {\n        vertical-align: middle;\n    }\n\n    .dataframe tbody tr th {\n        vertical-align: top;\n    }\n\n    .dataframe thead th {\n        text-align: right;\n    }\n</style>\n<table border=\"1\" class=\"dataframe\">\n  <thead>\n    <tr style=\"text-align: right;\">\n      <th></th>\n      <th>id</th>\n      <th>region name</th>\n      <th>time</th>\n      <th>quality</th>\n      <th>mqs_azimuth</th>\n      <th>mqs_distance</th>\n      <th>est_p_arrival</th>\n      <th>M_w</th>\n    </tr>\n    <tr>\n      <th>earthquake name</th>\n      <th></th>\n      <th></th>\n      <th></th>\n      <th></th>\n      <th></th>\n      <th></th>\n      <th></th>\n      <th></th>\n    </tr>\n  </thead>\n  <tbody>\n    <tr>\n      <th>S1415a</th>\n      <td>mqs2022wrzi</td>\n      <td>Elysium Southwest</td>\n      <td>2022-11-19T21:53:34.0000Z</td>\n      <td>B</td>\n      <td>108.8539635</td>\n      <td>4.951151082e-05</td>\n      <td>2022-11-19T21:55:49.119346Z</td>\n      <td>3.3</td>\n    </tr>\n    <tr>\n      <th>S1337a</th>\n      <td>mqs2022rbsc</td>\n      <td>Elysium Southwest</td>\n      <td>2022-08-31T20:23:46.685686Z</td>\n      <td>B</td>\n      <td>108.8539635</td>\n      <td>4.951151082e-05</td>\n      <td>2022-08-31T20:28:46.685686Z</td>\n      <td>3.3</td>\n    </tr>\n    <tr>\n      <th>S1237b</th>\n      <td>mqs2022jvts</td>\n      <td>Elysium Southwest</td>\n      <td>2022-05-20T23:37:51.098952Z</td>\n      <td>D</td>\n      <td>108.8539635</td>\n      <td>4.951151082e-05</td>\n      <td>2022-05-20T23:40:51.098952Z</td>\n      <td>NaN</td>\n    </tr>\n    <tr>\n      <th>S1237a</th>\n      <td>mqs2022jvst</td>\n      <td>Elysium Southwest</td>\n      <td>2022-05-20T23:08:41.115997Z</td>\n      <td>C</td>\n      <td>108.8539635</td>\n      <td>4.951151082e-05</td>\n      <td>2022-05-20T23:13:41.115997Z</td>\n      <td>2.6</td>\n    </tr>\n    <tr>\n      <th>S1235a</th>\n      <td>mqs2022jrva</td>\n      <td>Elysium Southwest</td>\n      <td>2022-05-18T19:45:44.84616Z</td>\n      <td>C</td>\n      <td>108.8539635</td>\n      <td>4.951151082e-05</td>\n      <td>2022-05-18T19:50:44.84616Z</td>\n      <td>2.7</td>\n    </tr>\n    <tr>\n      <th>...</th>\n      <td>...</td>\n      <td>...</td>\n      <td>...</td>\n      <td>...</td>\n      <td>...</td>\n      <td>...</td>\n      <td>...</td>\n      <td>...</td>\n    </tr>\n    <tr>\n      <th>S0128a</th>\n      <td>mqs2019gudd</td>\n      <td>Elysium Southwest</td>\n      <td>2019-04-07T09:31:52.0000Z</td>\n      <td>B</td>\n      <td>108.8539635</td>\n      <td>4.951151082e-05</td>\n      <td>2019-04-07T09:33:36.50275Z</td>\n      <td>2.2</td>\n    </tr>\n    <tr>\n      <th>S0116a</th>\n      <td>mqs2019fxyu</td>\n      <td>Elysium Southwest</td>\n      <td>2019-03-26T06:22:19.90061Z</td>\n      <td>D</td>\n      <td>108.8539635</td>\n      <td>4.951151082e-05</td>\n      <td>2019-03-26T06:27:19.90061Z</td>\n      <td>NaN</td>\n    </tr>\n    <tr>\n      <th>S0105a</th>\n      <td>mqs2019fddj</td>\n      <td>Aeolis Northeast</td>\n      <td>2019-03-14T20:59:21.050826Z</td>\n      <td>B</td>\n      <td>112</td>\n      <td>32.52202202</td>\n      <td>2019-03-14T21:03:28.123118Z</td>\n      <td>2.9</td>\n    </tr>\n    <tr>\n      <th>T0046a</th>\n      <td>mqs2019awjs</td>\n      <td>Elysium Southwest</td>\n      <td>2019-01-13T05:53:45.0000Z</td>\n      <td>D</td>\n      <td>NaN</td>\n      <td>NaN</td>\n      <td>2019-01-13T05:54:05.0000Z</td>\n      <td>NaN</td>\n    </tr>\n    <tr>\n      <th>T0045a</th>\n      <td>mqs2019aumt</td>\n      <td>Elysium Southwest</td>\n      <td>2019-01-12T05:09:39.0000Z</td>\n      <td>C</td>\n      <td>NaN</td>\n      <td>NaN</td>\n      <td>2019-01-12T05:09:59.0000Z</td>\n      <td>NaN</td>\n    </tr>\n  </tbody>\n</table>\n<p>2715 rows × 8 columns</p>\n</div>"
     },
     "execution_count": 4,
     "metadata": {},
     "output_type": "execute_result"
    }
   ],
   "source": [
    "cb = InsightCatalog(CATALOG_BASE_URL + CATALOG_EXT, DATA_DIR)\n",
    "catalog = cb.parse()\n",
    "events = catalog.events.set_index(\"earthquake name\")\n",
    "events"
   ],
   "metadata": {
    "collapsed": false,
    "ExecuteTime": {
     "end_time": "2023-09-21T10:57:36.182515Z",
     "start_time": "2023-09-21T10:57:35.268913Z"
    }
   },
   "id": "d875a224cec1fdf4"
  },
  {
   "cell_type": "markdown",
   "source": [
    "## Fetch 'A' Quality Events"
   ],
   "metadata": {
    "collapsed": false
   },
   "id": "c831a594a476261f"
  },
  {
   "cell_type": "code",
   "execution_count": 5,
   "outputs": [],
   "source": [
    "st_uvw = {}\n",
    "\n",
    "events_dl = EventDownloader(DATA_DIR, before=before, after=after)\n",
    "event_ids = events[events[\"quality\"] == \"A\"].index\n",
    "\n",
    "for evt in event_ids:\n",
    "    e = events.loc[evt]\n",
    "    st_uvw[evt] = events_dl.get_stream(\n",
    "        network=network,\n",
    "        station=station,\n",
    "        location=location,\n",
    "        channel=\"BH?\",\n",
    "        est_p_arrival=isoparse(e.est_p_arrival),\n",
    "        evt_id=e.id\n",
    "    )"
   ],
   "metadata": {
    "collapsed": false,
    "ExecuteTime": {
     "end_time": "2023-09-21T10:57:36.212122Z",
     "start_time": "2023-09-21T10:57:36.183032Z"
    }
   },
   "id": "1e215da29e45b045"
  },
  {
   "cell_type": "markdown",
   "source": [
    "## Rotate to ZNE"
   ],
   "metadata": {
    "collapsed": false
   },
   "id": "6967ffa6e98c5438"
  },
  {
   "cell_type": "code",
   "execution_count": 6,
   "outputs": [],
   "source": [
    "st_zne = {}\n",
    "\n",
    "for evt in event_ids:\n",
    "    st_zne[evt] = rotate_zne(st_uvw[evt], bh_orientations)"
   ],
   "metadata": {
    "collapsed": false,
    "ExecuteTime": {
     "end_time": "2023-09-21T10:57:36.323948Z",
     "start_time": "2023-09-21T10:57:36.219839Z"
    }
   },
   "id": "93bc2d6608e8d133"
  },
  {
   "cell_type": "markdown",
   "source": [
    "## Save rotated streams and catalog to disk\n",
    "\n",
    "Sort by M_w"
   ],
   "metadata": {
    "collapsed": false
   },
   "id": "42af998a7e51b1c5"
  },
  {
   "cell_type": "code",
   "execution_count": 13,
   "outputs": [
    {
     "name": "stderr",
     "output_type": "stream",
     "text": [
      "/Users/tom/Library/Caches/pypoetry/virtualenvs/insight-notebooks-clKRl_iU-py3.11/lib/python3.11/site-packages/obspy/io/mseed/core.py:770: UserWarning: The encoding specified in trace.stats.mseed.encoding does not match the dtype of the data.\n",
      "A suitable encoding will be chosen.\n",
      "  warnings.warn(msg, UserWarning)\n"
     ]
    }
   ],
   "source": [
    "events.loc[event_ids].sort_values(\"M_w\", ascending=False).to_parquet(os.path.join(DATA_DIR, \"a_quality.parquet\"), index=True)\n",
    "zne_dst_dir = os.path.join(DATA_DIR, \"zne\")\n",
    "if not os.path.exists(zne_dst_dir):\n",
    "    os.mkdir(zne_dst_dir)\n",
    "\n",
    "for evt in event_ids:\n",
    "    trace_file = TraceFile(network, station, location, events.loc[evt].id, format=\"MSEED\")\n",
    "    st_zne[evt].write(os.path.join(zne_dst_dir, str(trace_file)), format=\"MSEED\")"
   ],
   "metadata": {
    "collapsed": false,
    "ExecuteTime": {
     "end_time": "2023-09-21T12:21:04.482694Z",
     "start_time": "2023-09-21T12:21:04.467502Z"
    }
   },
   "id": "dd06331c9e9f9624"
  },
  {
   "cell_type": "code",
   "execution_count": 12,
   "outputs": [
    {
     "data": {
      "text/plain": "         network: XB\n         station: ELYSE\n        location: 02\n         channel: BHZ\n       starttime: 2022-05-04T23:27:35.204000Z\n         endtime: 2022-05-04T23:29:45.154000Z\n   sampling_rate: 20.0\n           delta: 0.05\n            npts: 2600\n           calib: 1.0\n         _format: MSEED\n           mseed: AttribDict({'dataquality': 'M', 'number_of_records': 24, 'encoding': 'STEIM2', 'byteorder': '>', 'record_length': 512, 'filesize': 36864})"
     },
     "execution_count": 12,
     "metadata": {},
     "output_type": "execute_result"
    }
   ],
   "source": [
    "st_zne[\"S1222a\"][0].stats"
   ],
   "metadata": {
    "collapsed": false,
    "ExecuteTime": {
     "end_time": "2023-09-21T11:06:12.855759Z",
     "start_time": "2023-09-21T11:06:12.852106Z"
    }
   },
   "id": "35e241c56a467e1b"
  }
 ],
 "metadata": {
  "kernelspec": {
   "display_name": "Python 3",
   "language": "python",
   "name": "python3"
  },
  "language_info": {
   "codemirror_mode": {
    "name": "ipython",
    "version": 2
   },
   "file_extension": ".py",
   "mimetype": "text/x-python",
   "name": "python",
   "nbconvert_exporter": "python",
   "pygments_lexer": "ipython2",
   "version": "2.7.6"
  }
 },
 "nbformat": 4,
 "nbformat_minor": 5
}
