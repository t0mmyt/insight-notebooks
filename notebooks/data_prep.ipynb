{
 "cells": [
  {
   "cell_type": "code",
   "execution_count": 7,
   "id": "initial_id",
   "metadata": {
    "collapsed": true,
    "ExecuteTime": {
     "end_time": "2023-09-27T11:39:45.636195Z",
     "start_time": "2023-09-27T11:39:45.617994Z"
    }
   },
   "outputs": [
    {
     "name": "stdout",
     "output_type": "stream",
     "text": [
      "The autoreload extension is already loaded. To reload it, use:\n",
      "  %reload_ext autoreload\n"
     ]
    }
   ],
   "source": [
    "%load_ext autoreload\n",
    "%autoreload 1\n",
    "import os\n",
    "\n",
    "from obspy import UTCDateTime\n",
    "from obspy.clients.fdsn import Client\n",
    "\n",
    "from insight.catalog import InsightCatalog\n",
    "from insight.rotate import rotate_zne\n",
    "from insight.util import EventDownloader, TraceFile"
   ]
  },
  {
   "cell_type": "markdown",
   "source": [
    "# Parameters"
   ],
   "metadata": {
    "collapsed": false
   },
   "id": "62ae010e571ebed1"
  },
  {
   "cell_type": "code",
   "execution_count": 8,
   "outputs": [],
   "source": [
    "DATA_DIR = \"../data/\"\n",
    "DATALESS_SEED = \"ELYSE.dataless\"\n",
    "CATALOG_BASE_URL = \"https://www.seis-insight.eu/static/mqs-catalogs/v14/\"\n",
    "CATALOG_STD = \"events_extended_multiorigin_v14_2023-01-01.xml\"\n",
    "CATALOG_EXT = \"events_mars_extended_multiorigin_v14_2023-01-01.xml\"\n",
    "\n",
    "# https://www.iris.edu/hq/sis/insight\n",
    "network = \"XB\"\n",
    "station = \"ELYSE\"\n",
    "location = \"02\"\n",
    "min_ang, max_ang = 30, 90\n",
    "before, after = 10, 120\n",
    "inv_time = UTCDateTime(2020, 1, 1)  # Only used to get channel metadata\n",
    "channels = [\"BHU\", \"BHV\", \"BHW\"]\n",
    "\n",
    "# # RFs\n",
    "# f0 = 2.0\n",
    "# itmax = 400\n",
    "# minderr = 0.001"
   ],
   "metadata": {
    "collapsed": false,
    "ExecuteTime": {
     "end_time": "2023-09-27T11:39:45.636839Z",
     "start_time": "2023-09-27T11:39:45.624684Z"
    }
   },
   "id": "c108e717aae45fc9"
  },
  {
   "cell_type": "markdown",
   "source": [
    "## Fetch Inventory\n",
    "Get lat/lon and sensor orientations from Iris"
   ],
   "metadata": {
    "collapsed": false
   },
   "id": "b641f1dd63638ae1"
  },
  {
   "cell_type": "code",
   "execution_count": 9,
   "outputs": [],
   "source": [
    "client = Client(\"IRIS\")\n",
    "insight = client.get_stations(network=network, station=station, location=location, channel=\"BH?\", level=\"channel\")[0]\n",
    "lat, lon = insight[0].latitude, insight[0].longitude\n",
    "bh_orientations = {\n",
    "    ch: insight.get_orientation(f\"{network}.{station}.{location}.{ch}\", inv_time)\n",
    "    for ch in channels\n",
    "}"
   ],
   "metadata": {
    "collapsed": false,
    "ExecuteTime": {
     "end_time": "2023-09-27T11:39:47.621630Z",
     "start_time": "2023-09-27T11:39:45.629810Z"
    }
   },
   "id": "a4601bcf05b8af6b"
  },
  {
   "cell_type": "markdown",
   "source": [
    "## Build Catalog"
   ],
   "metadata": {
    "collapsed": false
   },
   "id": "c790aafcaf307ecd"
  },
  {
   "cell_type": "code",
   "execution_count": 10,
   "outputs": [
    {
     "data": {
      "text/plain": "                          id        region name                         time  \\\nearthquake name                                                                \nS1415a           mqs2022wrzi  Elysium Southwest    2022-11-19T21:53:34.0000Z   \nS1337a           mqs2022rbsc  Elysium Southwest  2022-08-31T20:23:46.685686Z   \nS1237b           mqs2022jvts  Elysium Southwest  2022-05-20T23:37:51.098952Z   \nS1237a           mqs2022jvst  Elysium Southwest  2022-05-20T23:08:41.115997Z   \nS1235a           mqs2022jrva  Elysium Southwest   2022-05-18T19:45:44.84616Z   \n...                      ...                ...                          ...   \nS0128a           mqs2019gudd  Elysium Southwest    2019-04-07T09:31:52.0000Z   \nS0116a           mqs2019fxyu  Elysium Southwest   2019-03-26T06:22:19.90061Z   \nS0105a           mqs2019fddj   Aeolis Northeast  2019-03-14T20:59:21.050826Z   \nT0046a           mqs2019awjs  Elysium Southwest    2019-01-13T05:53:45.0000Z   \nT0045a           mqs2019aumt  Elysium Southwest    2019-01-12T05:09:39.0000Z   \n\n                quality  mqs_azimuth  mqs_distance  \\\nearthquake name                                      \nS1415a                B   108.853964      0.000050   \nS1337a                B   108.853964      0.000050   \nS1237b                D   108.853964      0.000050   \nS1237a                C   108.853964      0.000050   \nS1235a                C   108.853964      0.000050   \n...                 ...          ...           ...   \nS0128a                B   108.853964      0.000050   \nS0116a                D   108.853964      0.000050   \nS0105a                B   112.000000     32.522022   \nT0046a                D          NaN           NaN   \nT0045a                C          NaN           NaN   \n\n                                       p_arrival  M_w pp_arrival  \nearthquake name                                                   \nS1415a          2022-11-19 21:56:13.594137+00:00  3.3        NaT  \nS1337a                                       NaT  3.3        NaT  \nS1237b                                       NaT  NaN        NaT  \nS1237a                                       NaT  2.6        NaT  \nS1235a                                       NaT  2.7        NaT  \n...                                          ...  ...        ...  \nS0128a                                       NaT  2.2        NaT  \nS0116a                                       NaT  NaN        NaT  \nS0105a          2019-03-14 21:03:03.600000+00:00  2.9        NaT  \nT0046a                                       NaT  NaN        NaT  \nT0045a                                       NaT  NaN        NaT  \n\n[2715 rows x 9 columns]",
      "text/html": "<div>\n<style scoped>\n    .dataframe tbody tr th:only-of-type {\n        vertical-align: middle;\n    }\n\n    .dataframe tbody tr th {\n        vertical-align: top;\n    }\n\n    .dataframe thead th {\n        text-align: right;\n    }\n</style>\n<table border=\"1\" class=\"dataframe\">\n  <thead>\n    <tr style=\"text-align: right;\">\n      <th></th>\n      <th>id</th>\n      <th>region name</th>\n      <th>time</th>\n      <th>quality</th>\n      <th>mqs_azimuth</th>\n      <th>mqs_distance</th>\n      <th>p_arrival</th>\n      <th>M_w</th>\n      <th>pp_arrival</th>\n    </tr>\n    <tr>\n      <th>earthquake name</th>\n      <th></th>\n      <th></th>\n      <th></th>\n      <th></th>\n      <th></th>\n      <th></th>\n      <th></th>\n      <th></th>\n      <th></th>\n    </tr>\n  </thead>\n  <tbody>\n    <tr>\n      <th>S1415a</th>\n      <td>mqs2022wrzi</td>\n      <td>Elysium Southwest</td>\n      <td>2022-11-19T21:53:34.0000Z</td>\n      <td>B</td>\n      <td>108.853964</td>\n      <td>0.000050</td>\n      <td>2022-11-19 21:56:13.594137+00:00</td>\n      <td>3.3</td>\n      <td>NaT</td>\n    </tr>\n    <tr>\n      <th>S1337a</th>\n      <td>mqs2022rbsc</td>\n      <td>Elysium Southwest</td>\n      <td>2022-08-31T20:23:46.685686Z</td>\n      <td>B</td>\n      <td>108.853964</td>\n      <td>0.000050</td>\n      <td>NaT</td>\n      <td>3.3</td>\n      <td>NaT</td>\n    </tr>\n    <tr>\n      <th>S1237b</th>\n      <td>mqs2022jvts</td>\n      <td>Elysium Southwest</td>\n      <td>2022-05-20T23:37:51.098952Z</td>\n      <td>D</td>\n      <td>108.853964</td>\n      <td>0.000050</td>\n      <td>NaT</td>\n      <td>NaN</td>\n      <td>NaT</td>\n    </tr>\n    <tr>\n      <th>S1237a</th>\n      <td>mqs2022jvst</td>\n      <td>Elysium Southwest</td>\n      <td>2022-05-20T23:08:41.115997Z</td>\n      <td>C</td>\n      <td>108.853964</td>\n      <td>0.000050</td>\n      <td>NaT</td>\n      <td>2.6</td>\n      <td>NaT</td>\n    </tr>\n    <tr>\n      <th>S1235a</th>\n      <td>mqs2022jrva</td>\n      <td>Elysium Southwest</td>\n      <td>2022-05-18T19:45:44.84616Z</td>\n      <td>C</td>\n      <td>108.853964</td>\n      <td>0.000050</td>\n      <td>NaT</td>\n      <td>2.7</td>\n      <td>NaT</td>\n    </tr>\n    <tr>\n      <th>...</th>\n      <td>...</td>\n      <td>...</td>\n      <td>...</td>\n      <td>...</td>\n      <td>...</td>\n      <td>...</td>\n      <td>...</td>\n      <td>...</td>\n      <td>...</td>\n    </tr>\n    <tr>\n      <th>S0128a</th>\n      <td>mqs2019gudd</td>\n      <td>Elysium Southwest</td>\n      <td>2019-04-07T09:31:52.0000Z</td>\n      <td>B</td>\n      <td>108.853964</td>\n      <td>0.000050</td>\n      <td>NaT</td>\n      <td>2.2</td>\n      <td>NaT</td>\n    </tr>\n    <tr>\n      <th>S0116a</th>\n      <td>mqs2019fxyu</td>\n      <td>Elysium Southwest</td>\n      <td>2019-03-26T06:22:19.90061Z</td>\n      <td>D</td>\n      <td>108.853964</td>\n      <td>0.000050</td>\n      <td>NaT</td>\n      <td>NaN</td>\n      <td>NaT</td>\n    </tr>\n    <tr>\n      <th>S0105a</th>\n      <td>mqs2019fddj</td>\n      <td>Aeolis Northeast</td>\n      <td>2019-03-14T20:59:21.050826Z</td>\n      <td>B</td>\n      <td>112.000000</td>\n      <td>32.522022</td>\n      <td>2019-03-14 21:03:03.600000+00:00</td>\n      <td>2.9</td>\n      <td>NaT</td>\n    </tr>\n    <tr>\n      <th>T0046a</th>\n      <td>mqs2019awjs</td>\n      <td>Elysium Southwest</td>\n      <td>2019-01-13T05:53:45.0000Z</td>\n      <td>D</td>\n      <td>NaN</td>\n      <td>NaN</td>\n      <td>NaT</td>\n      <td>NaN</td>\n      <td>NaT</td>\n    </tr>\n    <tr>\n      <th>T0045a</th>\n      <td>mqs2019aumt</td>\n      <td>Elysium Southwest</td>\n      <td>2019-01-12T05:09:39.0000Z</td>\n      <td>C</td>\n      <td>NaN</td>\n      <td>NaN</td>\n      <td>NaT</td>\n      <td>NaN</td>\n      <td>NaT</td>\n    </tr>\n  </tbody>\n</table>\n<p>2715 rows × 9 columns</p>\n</div>"
     },
     "execution_count": 10,
     "metadata": {},
     "output_type": "execute_result"
    }
   ],
   "source": [
    "cb = InsightCatalog(CATALOG_BASE_URL + CATALOG_EXT, DATA_DIR)\n",
    "catalog = cb.parse()\n",
    "events = catalog.events.set_index(\"earthquake name\")\n",
    "events"
   ],
   "metadata": {
    "collapsed": false,
    "ExecuteTime": {
     "end_time": "2023-09-27T11:39:48.644764Z",
     "start_time": "2023-09-27T11:39:47.622467Z"
    }
   },
   "id": "d875a224cec1fdf4"
  },
  {
   "cell_type": "markdown",
   "source": [
    "## Fetch 'A' Quality Events"
   ],
   "metadata": {
    "collapsed": false
   },
   "id": "c831a594a476261f"
  },
  {
   "cell_type": "code",
   "execution_count": 11,
   "outputs": [
    {
     "data": {
      "text/plain": "                          id             region name  \\\nearthquake name                                        \nS1222a           mqs2022isne        Aeolis Northeast   \nS1133c           mqs2022cixp       Elysium Southeast   \nS1102a           mqs2022aceh  Syrtis Major Northwest   \nS1094b           mqs2021zdzn       Diacria Southwest   \nS1048d           mqs2021vwbn       Elysium Southeast   \nS1022a           mqs2021tyvj       Elysium Northeast   \nS1015f           mqs2021tkqn       Elysium Southeast   \nS0864a           mqs2021indu       Elysium Southeast   \nS0820a           mqs2021fjzq        Aeolis Northeast   \nS0809a           mqs2021eppu       Elysium Southeast   \nS0235b           mqs2019onhx       Elysium Southeast   \nS0173a           mqs2019jzqa       Elysium Southeast   \n\n                                        time quality  mqs_azimuth  \\\nearthquake name                                                     \nS1222a           2022-05-04T23:23:07.710516Z       A   109.000000   \nS1133c           2022-02-03T08:04:36.469259Z       A    90.000000   \nS1102a           2022-01-02T04:27:10.093677Z       A   295.000000   \nS1094b           2021-12-24T22:38:02.749173Z       A    40.000000   \nS1048d           2021-11-07T22:00:15.254098Z       A   100.000000   \nS1022a           2021-10-11T23:14:29.105382Z       A    63.000000   \nS1015f           2021-10-04T04:52:29.248537Z       A    93.000000   \nS0864a            2021-05-02T00:57:35.34519Z       A   278.295695   \nS0820a           2021-03-18T14:51:33.869889Z       A    88.000000   \nS0809a            2021-03-07T11:09:26.99714Z       A    87.000000   \nS0235b           2019-07-26T12:15:38.748239Z       A   258.030468   \nS0173a           2019-05-23T02:19:09.852879Z       A    91.000000   \n\n                 mqs_distance                        p_arrival  M_w  \\\nearthquake name                                                       \nS1222a              37.014014        2022-05-04 23:27:34+00:00  4.6   \nS1133c              30.006507 2022-02-03 08:08:11.700000+00:00  3.8   \nS1102a              73.309309 2022-01-02 04:35:19.300000+00:00  3.2   \nS1094b              59.653654 2021-12-24 22:44:48.700000+00:00  4.0   \nS1048d              30.186186 2021-11-07 22:03:42.700000+00:00  3.6   \nS1022a              30.725225 2021-10-11 23:18:25.025302+00:00  3.6   \nS1015f              27.490991 2021-10-04 04:56:00.605894+00:00  2.9   \nS0864a              28.748749 2021-05-02 01:00:56.500000+00:00  3.1   \nS0820a              30.186186        2021-03-18 14:54:39+00:00  3.3   \nS0809a              29.826827 2021-03-07 11:12:59.600000+00:00  3.3   \nS0235b              28.748749 2019-07-26 12:18:58.500000+00:00  3.7   \nS0173a              30.006507 2019-05-23 02:22:42.300000+00:00  3.7   \n\n                                      pp_arrival  \nearthquake name                                   \nS1222a                                       NaT  \nS1133c                                       NaT  \nS1102a                                       NaT  \nS1094b                                       NaT  \nS1048d                                       NaT  \nS1022a                                       NaT  \nS1015f                                       NaT  \nS0864a                                       NaT  \nS0820a                                       NaT  \nS0809a                                       NaT  \nS0235b          2019-07-26 12:19:40.700000+00:00  \nS0173a                                       NaT  ",
      "text/html": "<div>\n<style scoped>\n    .dataframe tbody tr th:only-of-type {\n        vertical-align: middle;\n    }\n\n    .dataframe tbody tr th {\n        vertical-align: top;\n    }\n\n    .dataframe thead th {\n        text-align: right;\n    }\n</style>\n<table border=\"1\" class=\"dataframe\">\n  <thead>\n    <tr style=\"text-align: right;\">\n      <th></th>\n      <th>id</th>\n      <th>region name</th>\n      <th>time</th>\n      <th>quality</th>\n      <th>mqs_azimuth</th>\n      <th>mqs_distance</th>\n      <th>p_arrival</th>\n      <th>M_w</th>\n      <th>pp_arrival</th>\n    </tr>\n    <tr>\n      <th>earthquake name</th>\n      <th></th>\n      <th></th>\n      <th></th>\n      <th></th>\n      <th></th>\n      <th></th>\n      <th></th>\n      <th></th>\n      <th></th>\n    </tr>\n  </thead>\n  <tbody>\n    <tr>\n      <th>S1222a</th>\n      <td>mqs2022isne</td>\n      <td>Aeolis Northeast</td>\n      <td>2022-05-04T23:23:07.710516Z</td>\n      <td>A</td>\n      <td>109.000000</td>\n      <td>37.014014</td>\n      <td>2022-05-04 23:27:34+00:00</td>\n      <td>4.6</td>\n      <td>NaT</td>\n    </tr>\n    <tr>\n      <th>S1133c</th>\n      <td>mqs2022cixp</td>\n      <td>Elysium Southeast</td>\n      <td>2022-02-03T08:04:36.469259Z</td>\n      <td>A</td>\n      <td>90.000000</td>\n      <td>30.006507</td>\n      <td>2022-02-03 08:08:11.700000+00:00</td>\n      <td>3.8</td>\n      <td>NaT</td>\n    </tr>\n    <tr>\n      <th>S1102a</th>\n      <td>mqs2022aceh</td>\n      <td>Syrtis Major Northwest</td>\n      <td>2022-01-02T04:27:10.093677Z</td>\n      <td>A</td>\n      <td>295.000000</td>\n      <td>73.309309</td>\n      <td>2022-01-02 04:35:19.300000+00:00</td>\n      <td>3.2</td>\n      <td>NaT</td>\n    </tr>\n    <tr>\n      <th>S1094b</th>\n      <td>mqs2021zdzn</td>\n      <td>Diacria Southwest</td>\n      <td>2021-12-24T22:38:02.749173Z</td>\n      <td>A</td>\n      <td>40.000000</td>\n      <td>59.653654</td>\n      <td>2021-12-24 22:44:48.700000+00:00</td>\n      <td>4.0</td>\n      <td>NaT</td>\n    </tr>\n    <tr>\n      <th>S1048d</th>\n      <td>mqs2021vwbn</td>\n      <td>Elysium Southeast</td>\n      <td>2021-11-07T22:00:15.254098Z</td>\n      <td>A</td>\n      <td>100.000000</td>\n      <td>30.186186</td>\n      <td>2021-11-07 22:03:42.700000+00:00</td>\n      <td>3.6</td>\n      <td>NaT</td>\n    </tr>\n    <tr>\n      <th>S1022a</th>\n      <td>mqs2021tyvj</td>\n      <td>Elysium Northeast</td>\n      <td>2021-10-11T23:14:29.105382Z</td>\n      <td>A</td>\n      <td>63.000000</td>\n      <td>30.725225</td>\n      <td>2021-10-11 23:18:25.025302+00:00</td>\n      <td>3.6</td>\n      <td>NaT</td>\n    </tr>\n    <tr>\n      <th>S1015f</th>\n      <td>mqs2021tkqn</td>\n      <td>Elysium Southeast</td>\n      <td>2021-10-04T04:52:29.248537Z</td>\n      <td>A</td>\n      <td>93.000000</td>\n      <td>27.490991</td>\n      <td>2021-10-04 04:56:00.605894+00:00</td>\n      <td>2.9</td>\n      <td>NaT</td>\n    </tr>\n    <tr>\n      <th>S0864a</th>\n      <td>mqs2021indu</td>\n      <td>Elysium Southeast</td>\n      <td>2021-05-02T00:57:35.34519Z</td>\n      <td>A</td>\n      <td>278.295695</td>\n      <td>28.748749</td>\n      <td>2021-05-02 01:00:56.500000+00:00</td>\n      <td>3.1</td>\n      <td>NaT</td>\n    </tr>\n    <tr>\n      <th>S0820a</th>\n      <td>mqs2021fjzq</td>\n      <td>Aeolis Northeast</td>\n      <td>2021-03-18T14:51:33.869889Z</td>\n      <td>A</td>\n      <td>88.000000</td>\n      <td>30.186186</td>\n      <td>2021-03-18 14:54:39+00:00</td>\n      <td>3.3</td>\n      <td>NaT</td>\n    </tr>\n    <tr>\n      <th>S0809a</th>\n      <td>mqs2021eppu</td>\n      <td>Elysium Southeast</td>\n      <td>2021-03-07T11:09:26.99714Z</td>\n      <td>A</td>\n      <td>87.000000</td>\n      <td>29.826827</td>\n      <td>2021-03-07 11:12:59.600000+00:00</td>\n      <td>3.3</td>\n      <td>NaT</td>\n    </tr>\n    <tr>\n      <th>S0235b</th>\n      <td>mqs2019onhx</td>\n      <td>Elysium Southeast</td>\n      <td>2019-07-26T12:15:38.748239Z</td>\n      <td>A</td>\n      <td>258.030468</td>\n      <td>28.748749</td>\n      <td>2019-07-26 12:18:58.500000+00:00</td>\n      <td>3.7</td>\n      <td>2019-07-26 12:19:40.700000+00:00</td>\n    </tr>\n    <tr>\n      <th>S0173a</th>\n      <td>mqs2019jzqa</td>\n      <td>Elysium Southeast</td>\n      <td>2019-05-23T02:19:09.852879Z</td>\n      <td>A</td>\n      <td>91.000000</td>\n      <td>30.006507</td>\n      <td>2019-05-23 02:22:42.300000+00:00</td>\n      <td>3.7</td>\n      <td>NaT</td>\n    </tr>\n  </tbody>\n</table>\n</div>"
     },
     "execution_count": 11,
     "metadata": {},
     "output_type": "execute_result"
    }
   ],
   "source": [
    "st_uvw = {}\n",
    "\n",
    "events_dl = EventDownloader(DATA_DIR, before=before, after=after)\n",
    "events = events[events[\"quality\"] == \"A\"]\n",
    "events = events.dropna(subset=[\"p_arrival\"])\n",
    "events\n",
    "\n",
    "for evt in events.index:\n",
    "    e = events.loc[evt]\n",
    "    st_uvw[evt] = events_dl.get_stream(\n",
    "        network=network,\n",
    "        station=station,\n",
    "        location=location,\n",
    "        channel=\"BH?\",\n",
    "        est_p_arrival=e.p_arrival,\n",
    "        evt_id=e.id\n",
    "    )\n",
    "\n",
    "events"
   ],
   "metadata": {
    "collapsed": false,
    "ExecuteTime": {
     "end_time": "2023-09-27T11:39:48.657699Z",
     "start_time": "2023-09-27T11:39:48.642988Z"
    }
   },
   "id": "1e215da29e45b045"
  },
  {
   "cell_type": "markdown",
   "source": [
    "## Rotate to ZNE"
   ],
   "metadata": {
    "collapsed": false
   },
   "id": "6967ffa6e98c5438"
  },
  {
   "cell_type": "code",
   "execution_count": 12,
   "outputs": [],
   "source": [
    "st_zne = {}\n",
    "\n",
    "for evt in events.index:\n",
    "    st_zne[evt] = rotate_zne(st_uvw[evt], bh_orientations)"
   ],
   "metadata": {
    "collapsed": false,
    "ExecuteTime": {
     "end_time": "2023-09-27T11:39:48.697923Z",
     "start_time": "2023-09-27T11:39:48.666670Z"
    }
   },
   "id": "93bc2d6608e8d133"
  },
  {
   "cell_type": "markdown",
   "source": [
    "## Save rotated streams and catalog to disk\n",
    "\n",
    "Sort by M_w"
   ],
   "metadata": {
    "collapsed": false
   },
   "id": "42af998a7e51b1c5"
  },
  {
   "cell_type": "code",
   "execution_count": 13,
   "outputs": [
    {
     "name": "stderr",
     "output_type": "stream",
     "text": [
      "/Users/tom/Library/Caches/pypoetry/virtualenvs/insight-notebooks-clKRl_iU-py3.11/lib/python3.11/site-packages/obspy/io/mseed/core.py:770: UserWarning: The encoding specified in trace.stats.mseed.encoding does not match the dtype of the data.\n",
      "A suitable encoding will be chosen.\n",
      "  warnings.warn(msg, UserWarning)\n"
     ]
    }
   ],
   "source": [
    "events.sort_values(\"M_w\", ascending=False).to_parquet(os.path.join(DATA_DIR, \"a_quality.parquet\"), index=True)\n",
    "zne_dst_dir = os.path.join(DATA_DIR, \"zne\")\n",
    "if not os.path.exists(zne_dst_dir):\n",
    "    os.mkdir(zne_dst_dir)\n",
    "\n",
    "for evt in events.index:\n",
    "    trace_file = TraceFile(network, station, location, events.loc[evt].id, format=\"MSEED\")\n",
    "    st_zne[evt].write(os.path.join(zne_dst_dir, str(trace_file)), format=\"MSEED\")"
   ],
   "metadata": {
    "collapsed": false,
    "ExecuteTime": {
     "end_time": "2023-09-27T11:39:48.850756Z",
     "start_time": "2023-09-27T11:39:48.714916Z"
    }
   },
   "id": "dd06331c9e9f9624"
  },
  {
   "cell_type": "code",
   "execution_count": 14,
   "outputs": [
    {
     "data": {
      "text/plain": "         network: XB\n         station: ELYSE\n        location: 02\n         channel: BHZ\n       starttime: 2022-05-04T23:27:35.204000Z\n         endtime: 2022-05-04T23:29:45.154000Z\n   sampling_rate: 20.0\n           delta: 0.05\n            npts: 2600\n           calib: 1.0\n         _format: MSEED\n           mseed: AttribDict({'dataquality': 'M', 'number_of_records': 24, 'encoding': 'STEIM2', 'byteorder': '>', 'record_length': 512, 'filesize': 36864})"
     },
     "execution_count": 14,
     "metadata": {},
     "output_type": "execute_result"
    }
   ],
   "source": [
    "st_zne[\"S1222a\"][0].stats"
   ],
   "metadata": {
    "collapsed": false,
    "ExecuteTime": {
     "end_time": "2023-09-27T11:39:48.851014Z",
     "start_time": "2023-09-27T11:39:48.746057Z"
    }
   },
   "id": "35e241c56a467e1b"
  }
 ],
 "metadata": {
  "kernelspec": {
   "display_name": "Python 3",
   "language": "python",
   "name": "python3"
  },
  "language_info": {
   "codemirror_mode": {
    "name": "ipython",
    "version": 2
   },
   "file_extension": ".py",
   "mimetype": "text/x-python",
   "name": "python",
   "nbconvert_exporter": "python",
   "pygments_lexer": "ipython2",
   "version": "2.7.6"
  }
 },
 "nbformat": 4,
 "nbformat_minor": 5
}
