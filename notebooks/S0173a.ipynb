{
 "cells": [
  {
   "cell_type": "code",
   "execution_count": 1,
   "outputs": [
    {
     "ename": "ImportError",
     "evalue": "numpy.core.multiarray failed to import",
     "output_type": "error",
     "traceback": [
      "\u001B[0;31m---------------------------------------------------------------------------\u001B[0m",
      "\u001B[0;31mRuntimeError\u001B[0m                              Traceback (most recent call last)",
      "File \u001B[0;32m__init__.pxd:942\u001B[0m, in \u001B[0;36mnumpy.import_array\u001B[0;34m()\u001B[0m\n",
      "\u001B[0;31mRuntimeError\u001B[0m: module compiled against API version 0x10 but this version of numpy is 0xf",
      "\nDuring handling of the above exception, another exception occurred:\n",
      "\u001B[0;31mImportError\u001B[0m                               Traceback (most recent call last)",
      "Cell \u001B[0;32mIn[1], line 8\u001B[0m\n\u001B[1;32m      6\u001B[0m \u001B[38;5;28;01mimport\u001B[39;00m \u001B[38;5;21;01mnumpy\u001B[39;00m \u001B[38;5;28;01mas\u001B[39;00m \u001B[38;5;21;01mnp\u001B[39;00m\n\u001B[1;32m      7\u001B[0m \u001B[38;5;28;01mimport\u001B[39;00m \u001B[38;5;21;01mobspy\u001B[39;00m\n\u001B[0;32m----> 8\u001B[0m \u001B[38;5;28;01mimport\u001B[39;00m \u001B[38;5;21;01mpandas\u001B[39;00m \u001B[38;5;28;01mas\u001B[39;00m \u001B[38;5;21;01mpd\u001B[39;00m\n\u001B[1;32m      9\u001B[0m \u001B[38;5;28;01mfrom\u001B[39;00m \u001B[38;5;21;01mPIL\u001B[39;00m \u001B[38;5;28;01mimport\u001B[39;00m Image\n\u001B[1;32m     10\u001B[0m \u001B[38;5;28;01mfrom\u001B[39;00m \u001B[38;5;21;01mmatplotlib\u001B[39;00m \u001B[38;5;28;01mimport\u001B[39;00m pyplot \u001B[38;5;28;01mas\u001B[39;00m plt\n",
      "File \u001B[0;32m~/.cache/pypoetry/virtualenvs/insight-notebooks-21RfRvtz-py3.11/lib/python3.11/site-packages/pandas/__init__.py:22\u001B[0m\n\u001B[1;32m     19\u001B[0m \u001B[38;5;28;01mdel\u001B[39;00m _hard_dependencies, _dependency, _missing_dependencies\n\u001B[1;32m     21\u001B[0m \u001B[38;5;66;03m# numpy compat\u001B[39;00m\n\u001B[0;32m---> 22\u001B[0m \u001B[38;5;28;01mfrom\u001B[39;00m \u001B[38;5;21;01mpandas\u001B[39;00m\u001B[38;5;21;01m.\u001B[39;00m\u001B[38;5;21;01mcompat\u001B[39;00m \u001B[38;5;28;01mimport\u001B[39;00m is_numpy_dev \u001B[38;5;28;01mas\u001B[39;00m _is_numpy_dev  \u001B[38;5;66;03m# pyright: ignore # noqa:F401\u001B[39;00m\n\u001B[1;32m     24\u001B[0m \u001B[38;5;28;01mtry\u001B[39;00m:\n\u001B[1;32m     25\u001B[0m     \u001B[38;5;28;01mfrom\u001B[39;00m \u001B[38;5;21;01mpandas\u001B[39;00m\u001B[38;5;21;01m.\u001B[39;00m\u001B[38;5;21;01m_libs\u001B[39;00m \u001B[38;5;28;01mimport\u001B[39;00m hashtable \u001B[38;5;28;01mas\u001B[39;00m _hashtable, lib \u001B[38;5;28;01mas\u001B[39;00m _lib, tslib \u001B[38;5;28;01mas\u001B[39;00m _tslib\n",
      "File \u001B[0;32m~/.cache/pypoetry/virtualenvs/insight-notebooks-21RfRvtz-py3.11/lib/python3.11/site-packages/pandas/compat/__init__.py:18\u001B[0m\n\u001B[1;32m     15\u001B[0m \u001B[38;5;28;01mfrom\u001B[39;00m \u001B[38;5;21;01mtyping\u001B[39;00m \u001B[38;5;28;01mimport\u001B[39;00m TYPE_CHECKING\n\u001B[1;32m     17\u001B[0m \u001B[38;5;28;01mfrom\u001B[39;00m \u001B[38;5;21;01mpandas\u001B[39;00m\u001B[38;5;21;01m.\u001B[39;00m\u001B[38;5;21;01m_typing\u001B[39;00m \u001B[38;5;28;01mimport\u001B[39;00m F\n\u001B[0;32m---> 18\u001B[0m \u001B[38;5;28;01mfrom\u001B[39;00m \u001B[38;5;21;01mpandas\u001B[39;00m\u001B[38;5;21;01m.\u001B[39;00m\u001B[38;5;21;01mcompat\u001B[39;00m\u001B[38;5;21;01m.\u001B[39;00m\u001B[38;5;21;01mnumpy\u001B[39;00m \u001B[38;5;28;01mimport\u001B[39;00m (\n\u001B[1;32m     19\u001B[0m     is_numpy_dev,\n\u001B[1;32m     20\u001B[0m     np_version_under1p21,\n\u001B[1;32m     21\u001B[0m )\n\u001B[1;32m     22\u001B[0m \u001B[38;5;28;01mfrom\u001B[39;00m \u001B[38;5;21;01mpandas\u001B[39;00m\u001B[38;5;21;01m.\u001B[39;00m\u001B[38;5;21;01mcompat\u001B[39;00m\u001B[38;5;21;01m.\u001B[39;00m\u001B[38;5;21;01mpyarrow\u001B[39;00m \u001B[38;5;28;01mimport\u001B[39;00m (\n\u001B[1;32m     23\u001B[0m     pa_version_under1p01,\n\u001B[1;32m     24\u001B[0m     pa_version_under2p0,\n\u001B[0;32m   (...)\u001B[0m\n\u001B[1;32m     31\u001B[0m     pa_version_under9p0,\n\u001B[1;32m     32\u001B[0m )\n\u001B[1;32m     34\u001B[0m \u001B[38;5;28;01mif\u001B[39;00m TYPE_CHECKING:\n",
      "File \u001B[0;32m~/.cache/pypoetry/virtualenvs/insight-notebooks-21RfRvtz-py3.11/lib/python3.11/site-packages/pandas/compat/numpy/__init__.py:4\u001B[0m\n\u001B[1;32m      1\u001B[0m \u001B[38;5;124;03m\"\"\" support numpy compatibility across versions \"\"\"\u001B[39;00m\n\u001B[1;32m      2\u001B[0m \u001B[38;5;28;01mimport\u001B[39;00m \u001B[38;5;21;01mnumpy\u001B[39;00m \u001B[38;5;28;01mas\u001B[39;00m \u001B[38;5;21;01mnp\u001B[39;00m\n\u001B[0;32m----> 4\u001B[0m \u001B[38;5;28;01mfrom\u001B[39;00m \u001B[38;5;21;01mpandas\u001B[39;00m\u001B[38;5;21;01m.\u001B[39;00m\u001B[38;5;21;01mutil\u001B[39;00m\u001B[38;5;21;01m.\u001B[39;00m\u001B[38;5;21;01mversion\u001B[39;00m \u001B[38;5;28;01mimport\u001B[39;00m Version\n\u001B[1;32m      6\u001B[0m \u001B[38;5;66;03m# numpy versioning\u001B[39;00m\n\u001B[1;32m      7\u001B[0m _np_version \u001B[38;5;241m=\u001B[39m np\u001B[38;5;241m.\u001B[39m__version__\n",
      "File \u001B[0;32m~/.cache/pypoetry/virtualenvs/insight-notebooks-21RfRvtz-py3.11/lib/python3.11/site-packages/pandas/util/__init__.py:2\u001B[0m\n\u001B[1;32m      1\u001B[0m \u001B[38;5;66;03m# pyright: reportUnusedImport = false\u001B[39;00m\n\u001B[0;32m----> 2\u001B[0m \u001B[38;5;28;01mfrom\u001B[39;00m \u001B[38;5;21;01mpandas\u001B[39;00m\u001B[38;5;21;01m.\u001B[39;00m\u001B[38;5;21;01mutil\u001B[39;00m\u001B[38;5;21;01m.\u001B[39;00m\u001B[38;5;21;01m_decorators\u001B[39;00m \u001B[38;5;28;01mimport\u001B[39;00m (  \u001B[38;5;66;03m# noqa:F401\u001B[39;00m\n\u001B[1;32m      3\u001B[0m     Appender,\n\u001B[1;32m      4\u001B[0m     Substitution,\n\u001B[1;32m      5\u001B[0m     cache_readonly,\n\u001B[1;32m      6\u001B[0m )\n\u001B[1;32m      8\u001B[0m \u001B[38;5;28;01mfrom\u001B[39;00m \u001B[38;5;21;01mpandas\u001B[39;00m\u001B[38;5;21;01m.\u001B[39;00m\u001B[38;5;21;01mcore\u001B[39;00m\u001B[38;5;21;01m.\u001B[39;00m\u001B[38;5;21;01mutil\u001B[39;00m\u001B[38;5;21;01m.\u001B[39;00m\u001B[38;5;21;01mhashing\u001B[39;00m \u001B[38;5;28;01mimport\u001B[39;00m (  \u001B[38;5;66;03m# noqa:F401\u001B[39;00m\n\u001B[1;32m      9\u001B[0m     hash_array,\n\u001B[1;32m     10\u001B[0m     hash_pandas_object,\n\u001B[1;32m     11\u001B[0m )\n\u001B[1;32m     14\u001B[0m \u001B[38;5;28;01mdef\u001B[39;00m \u001B[38;5;21m__getattr__\u001B[39m(name):\n",
      "File \u001B[0;32m~/.cache/pypoetry/virtualenvs/insight-notebooks-21RfRvtz-py3.11/lib/python3.11/site-packages/pandas/util/_decorators.py:14\u001B[0m\n\u001B[1;32m      6\u001B[0m \u001B[38;5;28;01mfrom\u001B[39;00m \u001B[38;5;21;01mtyping\u001B[39;00m \u001B[38;5;28;01mimport\u001B[39;00m (\n\u001B[1;32m      7\u001B[0m     Any,\n\u001B[1;32m      8\u001B[0m     Callable,\n\u001B[1;32m      9\u001B[0m     Mapping,\n\u001B[1;32m     10\u001B[0m     cast,\n\u001B[1;32m     11\u001B[0m )\n\u001B[1;32m     12\u001B[0m \u001B[38;5;28;01mimport\u001B[39;00m \u001B[38;5;21;01mwarnings\u001B[39;00m\n\u001B[0;32m---> 14\u001B[0m \u001B[38;5;28;01mfrom\u001B[39;00m \u001B[38;5;21;01mpandas\u001B[39;00m\u001B[38;5;21;01m.\u001B[39;00m\u001B[38;5;21;01m_libs\u001B[39;00m\u001B[38;5;21;01m.\u001B[39;00m\u001B[38;5;21;01mproperties\u001B[39;00m \u001B[38;5;28;01mimport\u001B[39;00m cache_readonly\n\u001B[1;32m     15\u001B[0m \u001B[38;5;28;01mfrom\u001B[39;00m \u001B[38;5;21;01mpandas\u001B[39;00m\u001B[38;5;21;01m.\u001B[39;00m\u001B[38;5;21;01m_typing\u001B[39;00m \u001B[38;5;28;01mimport\u001B[39;00m (\n\u001B[1;32m     16\u001B[0m     F,\n\u001B[1;32m     17\u001B[0m     T,\n\u001B[1;32m     18\u001B[0m )\n\u001B[1;32m     19\u001B[0m \u001B[38;5;28;01mfrom\u001B[39;00m \u001B[38;5;21;01mpandas\u001B[39;00m\u001B[38;5;21;01m.\u001B[39;00m\u001B[38;5;21;01mutil\u001B[39;00m\u001B[38;5;21;01m.\u001B[39;00m\u001B[38;5;21;01m_exceptions\u001B[39;00m \u001B[38;5;28;01mimport\u001B[39;00m find_stack_level\n",
      "File \u001B[0;32m~/.cache/pypoetry/virtualenvs/insight-notebooks-21RfRvtz-py3.11/lib/python3.11/site-packages/pandas/_libs/__init__.py:13\u001B[0m\n\u001B[1;32m      1\u001B[0m __all__ \u001B[38;5;241m=\u001B[39m [\n\u001B[1;32m      2\u001B[0m     \u001B[38;5;124m\"\u001B[39m\u001B[38;5;124mNaT\u001B[39m\u001B[38;5;124m\"\u001B[39m,\n\u001B[1;32m      3\u001B[0m     \u001B[38;5;124m\"\u001B[39m\u001B[38;5;124mNaTType\u001B[39m\u001B[38;5;124m\"\u001B[39m,\n\u001B[0;32m   (...)\u001B[0m\n\u001B[1;32m      9\u001B[0m     \u001B[38;5;124m\"\u001B[39m\u001B[38;5;124mInterval\u001B[39m\u001B[38;5;124m\"\u001B[39m,\n\u001B[1;32m     10\u001B[0m ]\n\u001B[0;32m---> 13\u001B[0m \u001B[38;5;28;01mfrom\u001B[39;00m \u001B[38;5;21;01mpandas\u001B[39;00m\u001B[38;5;21;01m.\u001B[39;00m\u001B[38;5;21;01m_libs\u001B[39;00m\u001B[38;5;21;01m.\u001B[39;00m\u001B[38;5;21;01minterval\u001B[39;00m \u001B[38;5;28;01mimport\u001B[39;00m Interval\n\u001B[1;32m     14\u001B[0m \u001B[38;5;28;01mfrom\u001B[39;00m \u001B[38;5;21;01mpandas\u001B[39;00m\u001B[38;5;21;01m.\u001B[39;00m\u001B[38;5;21;01m_libs\u001B[39;00m\u001B[38;5;21;01m.\u001B[39;00m\u001B[38;5;21;01mtslibs\u001B[39;00m \u001B[38;5;28;01mimport\u001B[39;00m (\n\u001B[1;32m     15\u001B[0m     NaT,\n\u001B[1;32m     16\u001B[0m     NaTType,\n\u001B[0;32m   (...)\u001B[0m\n\u001B[1;32m     21\u001B[0m     iNaT,\n\u001B[1;32m     22\u001B[0m )\n",
      "File \u001B[0;32m~/.cache/pypoetry/virtualenvs/insight-notebooks-21RfRvtz-py3.11/lib/python3.11/site-packages/pandas/_libs/interval.pyx:1\u001B[0m, in \u001B[0;36minit pandas._libs.interval\u001B[0;34m()\u001B[0m\n",
      "File \u001B[0;32m~/.cache/pypoetry/virtualenvs/insight-notebooks-21RfRvtz-py3.11/lib/python3.11/site-packages/pandas/_libs/hashtable.pyx:1\u001B[0m, in \u001B[0;36minit pandas._libs.hashtable\u001B[0;34m()\u001B[0m\n",
      "File \u001B[0;32m~/.cache/pypoetry/virtualenvs/insight-notebooks-21RfRvtz-py3.11/lib/python3.11/site-packages/pandas/_libs/missing.pyx:1\u001B[0m, in \u001B[0;36minit pandas._libs.missing\u001B[0;34m()\u001B[0m\n",
      "File \u001B[0;32m~/.cache/pypoetry/virtualenvs/insight-notebooks-21RfRvtz-py3.11/lib/python3.11/site-packages/pandas/_libs/tslibs/__init__.py:36\u001B[0m\n\u001B[1;32m      1\u001B[0m __all__ \u001B[38;5;241m=\u001B[39m [\n\u001B[1;32m      2\u001B[0m     \u001B[38;5;124m\"\u001B[39m\u001B[38;5;124mdtypes\u001B[39m\u001B[38;5;124m\"\u001B[39m,\n\u001B[1;32m      3\u001B[0m     \u001B[38;5;124m\"\u001B[39m\u001B[38;5;124mlocalize_pydatetime\u001B[39m\u001B[38;5;124m\"\u001B[39m,\n\u001B[0;32m   (...)\u001B[0m\n\u001B[1;32m     33\u001B[0m     \u001B[38;5;124m\"\u001B[39m\u001B[38;5;124mis_supported_unit\u001B[39m\u001B[38;5;124m\"\u001B[39m,\n\u001B[1;32m     34\u001B[0m ]\n\u001B[0;32m---> 36\u001B[0m \u001B[38;5;28;01mfrom\u001B[39;00m \u001B[38;5;21;01mpandas\u001B[39;00m\u001B[38;5;21;01m.\u001B[39;00m\u001B[38;5;21;01m_libs\u001B[39;00m\u001B[38;5;21;01m.\u001B[39;00m\u001B[38;5;21;01mtslibs\u001B[39;00m \u001B[38;5;28;01mimport\u001B[39;00m dtypes\n\u001B[1;32m     37\u001B[0m \u001B[38;5;28;01mfrom\u001B[39;00m \u001B[38;5;21;01mpandas\u001B[39;00m\u001B[38;5;21;01m.\u001B[39;00m\u001B[38;5;21;01m_libs\u001B[39;00m\u001B[38;5;21;01m.\u001B[39;00m\u001B[38;5;21;01mtslibs\u001B[39;00m\u001B[38;5;21;01m.\u001B[39;00m\u001B[38;5;21;01mconversion\u001B[39;00m \u001B[38;5;28;01mimport\u001B[39;00m localize_pydatetime\n\u001B[1;32m     38\u001B[0m \u001B[38;5;28;01mfrom\u001B[39;00m \u001B[38;5;21;01mpandas\u001B[39;00m\u001B[38;5;21;01m.\u001B[39;00m\u001B[38;5;21;01m_libs\u001B[39;00m\u001B[38;5;21;01m.\u001B[39;00m\u001B[38;5;21;01mtslibs\u001B[39;00m\u001B[38;5;21;01m.\u001B[39;00m\u001B[38;5;21;01mdtypes\u001B[39;00m \u001B[38;5;28;01mimport\u001B[39;00m (\n\u001B[1;32m     39\u001B[0m     Resolution,\n\u001B[1;32m     40\u001B[0m     is_supported_unit,\n\u001B[1;32m     41\u001B[0m     periods_per_day,\n\u001B[1;32m     42\u001B[0m     periods_per_second,\n\u001B[1;32m     43\u001B[0m )\n",
      "File \u001B[0;32m~/.cache/pypoetry/virtualenvs/insight-notebooks-21RfRvtz-py3.11/lib/python3.11/site-packages/pandas/_libs/tslibs/dtypes.pyx:1\u001B[0m, in \u001B[0;36minit pandas._libs.tslibs.dtypes\u001B[0;34m()\u001B[0m\n",
      "File \u001B[0;32m~/.cache/pypoetry/virtualenvs/insight-notebooks-21RfRvtz-py3.11/lib/python3.11/site-packages/pandas/_libs/tslibs/np_datetime.pyx:28\u001B[0m, in \u001B[0;36minit pandas._libs.tslibs.np_datetime\u001B[0;34m()\u001B[0m\n",
      "File \u001B[0;32m__init__.pxd:944\u001B[0m, in \u001B[0;36mnumpy.import_array\u001B[0;34m()\u001B[0m\n",
      "\u001B[0;31mImportError\u001B[0m: numpy.core.multiarray failed to import"
     ]
    }
   ],
   "source": [
    "%load_ext autoreload\n",
    "%autoreload 1\n",
    "import os\n",
    "from datetime import timedelta\n",
    "\n",
    "import numpy as np\n",
    "import obspy\n",
    "import pandas as pd\n",
    "from PIL import Image\n",
    "from matplotlib import pyplot as plt\n",
    "from matplotlib.axes import Axes\n",
    "from obspy import UTCDateTime\n",
    "from seispy.decon import RFTrace\n",
    "\n",
    "from insight.util import TraceFile, EventDownloader\n",
    "from insight.util import trace_slice"
   ],
   "metadata": {
    "collapsed": false,
    "ExecuteTime": {
     "end_time": "2024-01-24T02:04:15.727673440Z",
     "start_time": "2024-01-24T02:04:15.109927268Z"
    }
   },
   "id": "initial_id"
  },
  {
   "cell_type": "code",
   "execution_count": null,
   "outputs": [],
   "source": [
    "DATA_DIR = \"../data/\"\n",
    "CAT_FILE = \"a_quality.parquet\"\n",
    "EVENT = \"S0173a\"\n",
    "network, station, location = \"XB\", \"ELYSE\", \"02\"\n",
    "before, after = 10, 120"
   ],
   "metadata": {
    "collapsed": false,
    "ExecuteTime": {
     "start_time": "2024-01-24T02:04:15.705959024Z"
    }
   },
   "id": "dd4c5c1cdda1a658"
  },
  {
   "cell_type": "code",
   "outputs": [],
   "source": [
    "event = pd.read_parquet(os.path.join(DATA_DIR, CAT_FILE)).loc[EVENT]\n",
    "trace_file = TraceFile(network, station, location, event.id)\n",
    "st = obspy.read(os.path.join(DATA_DIR, \"zne\", str(trace_file)))\n",
    "events_dl = EventDownloader(DATA_DIR, before=before, after=after)\n",
    "event"
   ],
   "metadata": {
    "collapsed": false,
    "ExecuteTime": {
     "start_time": "2024-01-24T02:04:15.706397242Z"
    }
   },
   "id": "fefcdd7040fa1829",
   "execution_count": null
  },
  {
   "cell_type": "code",
   "execution_count": null,
   "outputs": [],
   "source": [
    "st = events_dl.get_stream(\n",
    "    network=network,\n",
    "    station=station,\n",
    "    location=location,\n",
    "    channel=\"BH?\",\n",
    "    est_p_arrival=event.arrival,\n",
    "    evt_id=event.id\n",
    ")\n",
    "st.plot(show=False)"
   ],
   "metadata": {
    "collapsed": false,
    "ExecuteTime": {
     "start_time": "2024-01-24T02:04:15.706599865Z"
    }
   },
   "id": "cd653bce741d22a2"
  },
  {
   "cell_type": "code",
   "execution_count": null,
   "outputs": [],
   "source": [
    "from seisglitch import detect\n",
    "from yaml import safe_load\n",
    "with open(\"../seisglitch-config.yaml\") as cfg:\n",
    "    config = safe_load(cfg)\n",
    "config[\"detect\"]"
   ],
   "metadata": {
    "collapsed": false,
    "ExecuteTime": {
     "start_time": "2024-01-24T02:04:15.706769725Z"
    }
   },
   "id": "eeba99adc4172b51"
  },
  {
   "cell_type": "code",
   "execution_count": null,
   "outputs": [],
   "source": [
    "trace_file = \"../data/traces/XB.ELYSE.02.MQS2019JZQA.mseed\"\n",
    "detect.detect(trace_file, \"../inventory_VBB.xml\", **config[\"detect\"])"
   ],
   "metadata": {
    "collapsed": false,
    "ExecuteTime": {
     "start_time": "2024-01-24T02:04:15.706884871Z"
    }
   },
   "id": "15e9d90e561dc262"
  },
  {
   "cell_type": "code",
   "execution_count": null,
   "outputs": [],
   "source": [],
   "metadata": {
    "collapsed": false,
    "ExecuteTime": {
     "start_time": "2024-01-24T02:04:15.706995365Z"
    }
   },
   "id": "1bced07a3da2ed30"
  }
 ],
 "metadata": {
  "kernelspec": {
   "display_name": "Python 3",
   "language": "python",
   "name": "python3"
  },
  "language_info": {
   "codemirror_mode": {
    "name": "ipython",
    "version": 2
   },
   "file_extension": ".py",
   "mimetype": "text/x-python",
   "name": "python",
   "nbconvert_exporter": "python",
   "pygments_lexer": "ipython2",
   "version": "2.7.6"
  }
 },
 "nbformat": 4,
 "nbformat_minor": 5
}
