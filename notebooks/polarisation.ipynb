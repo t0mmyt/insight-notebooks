{
 "cells": [
  {
   "cell_type": "code",
   "execution_count": 1,
   "id": "ac4f61e26c833a84",
   "metadata": {
    "collapsed": true,
    "ExecuteTime": {
     "end_time": "2023-09-21T12:32:20.754157Z",
     "start_time": "2023-09-21T12:32:19.985209Z"
    }
   },
   "outputs": [],
   "source": [
    "%load_ext autoreload\n",
    "%autoreload 1\n",
    "import os\n",
    "\n",
    "from matplotlib import pyplot as plt\n",
    "import obspy\n",
    "import pandas as pd\n",
    "\n",
    "from insight.rotate import polarization_azimuth, angle_err\n",
    "from insight.util import TraceFile"
   ]
  },
  {
   "cell_type": "markdown",
   "source": [
    "# Parameters"
   ],
   "metadata": {
    "collapsed": false
   },
   "id": "5201b4e3e4070fd"
  },
  {
   "cell_type": "code",
   "execution_count": 2,
   "outputs": [],
   "source": [
    "DATA_DIR = \"../data/\"\n",
    "network = \"XB\"\n",
    "station = \"ELYSE\"\n",
    "location = \"02\"\n",
    "bandpass = {\"freqmin\": 0.1, \"freqmax\": 0.7}\n",
    "before, after = 10, 120"
   ],
   "metadata": {
    "collapsed": false,
    "ExecuteTime": {
     "end_time": "2023-09-21T12:32:20.762014Z",
     "start_time": "2023-09-21T12:32:20.755875Z"
    }
   },
   "id": "initial_id"
  },
  {
   "cell_type": "markdown",
   "source": [
    "## Read events back from disk"
   ],
   "metadata": {
    "collapsed": false
   },
   "id": "c0f679cc267fa0ed"
  },
  {
   "cell_type": "code",
   "execution_count": 3,
   "outputs": [
    {
     "data": {
      "text/plain": "                          id             region name  \\\nearthquake name                                        \nS1222a           mqs2022isne        Aeolis Northeast   \nS0976a           mqs2021qpls      Coprates Northwest   \nS1000a           mqs2021sijy   Lunae Palus Northwest   \nS1094b           mqs2021zdzn       Diacria Southwest   \nS1133c           mqs2022cixp       Elysium Southeast   \nS0235b           mqs2019onhx       Elysium Southeast   \nS0173a           mqs2019jzqa       Elysium Southeast   \nS1048d           mqs2021vwbn       Elysium Southeast   \nS1022a           mqs2021tyvj       Elysium Northeast   \nS0820a           mqs2021fjzq        Aeolis Northeast   \nS0809a           mqs2021eppu       Elysium Southeast   \nS1102a           mqs2022aceh  Syrtis Major Northwest   \nS0864a           mqs2021indu       Elysium Southeast   \nS1015f           mqs2021tkqn       Elysium Southeast   \n\n                                        time quality  mqs_azimuth  \\\nearthquake name                                                     \nS1222a           2022-05-04T23:23:07.710516Z       A          109   \nS0976a           2021-08-25T03:32:20.629953Z       A          101   \nS1000a           2021-09-18T17:46:20.639751Z       A           55   \nS1094b           2021-12-24T22:38:02.749173Z       A           40   \nS1133c           2022-02-03T08:04:36.469259Z       A           90   \nS0235b           2019-07-26T12:15:38.748239Z       A  258.0304683   \nS0173a           2019-05-23T02:19:09.852879Z       A           91   \nS1048d           2021-11-07T22:00:15.254098Z       A          100   \nS1022a           2021-10-11T23:14:29.105382Z       A           63   \nS0820a           2021-03-18T14:51:33.869889Z       A           88   \nS0809a            2021-03-07T11:09:26.99714Z       A           87   \nS1102a           2022-01-02T04:27:10.093677Z       A          295   \nS0864a            2021-05-02T00:57:35.34519Z       A   278.295695   \nS1015f           2021-10-04T04:52:29.248537Z       A           93   \n\n                mqs_distance                est_p_arrival  M_w  \nearthquake name                                                 \nS1222a           37.01401401  2022-05-04T23:27:45.192771Z  4.6  \nS0976a           146.2592593  2021-08-25T03:48:56.429772Z  4.3  \nS1000a           128.2912913  2021-09-18T17:58:51.682539Z  4.1  \nS1094b           59.65365365  2021-12-24T22:45:08.063325Z  4.0  \nS1133c           30.00650651  2022-02-03T08:08:24.753506Z  3.8  \nS0235b           28.74874872  2019-07-26T12:19:16.991001Z  3.7  \nS0173a           30.00650651  2019-05-23T02:22:58.043698Z  3.7  \nS1048d           30.18618619   2021-11-07T22:04:04.40886Z  3.6  \nS1022a           30.72522523  2021-10-11T23:18:20.004721Z  3.6  \nS0820a           30.18618619  2021-03-18T14:54:19.835741Z  3.3  \nS0809a           29.82682683  2021-03-07T11:13:14.930832Z  3.3  \nS1102a           73.30930931  2022-01-02T04:35:28.844688Z  3.2  \nS0864a           28.74874871  2021-05-02T01:01:05.534422Z  3.1  \nS1015f           27.49099099  2021-10-04T04:55:55.150429Z  2.9  ",
      "text/html": "<div>\n<style scoped>\n    .dataframe tbody tr th:only-of-type {\n        vertical-align: middle;\n    }\n\n    .dataframe tbody tr th {\n        vertical-align: top;\n    }\n\n    .dataframe thead th {\n        text-align: right;\n    }\n</style>\n<table border=\"1\" class=\"dataframe\">\n  <thead>\n    <tr style=\"text-align: right;\">\n      <th></th>\n      <th>id</th>\n      <th>region name</th>\n      <th>time</th>\n      <th>quality</th>\n      <th>mqs_azimuth</th>\n      <th>mqs_distance</th>\n      <th>est_p_arrival</th>\n      <th>M_w</th>\n    </tr>\n    <tr>\n      <th>earthquake name</th>\n      <th></th>\n      <th></th>\n      <th></th>\n      <th></th>\n      <th></th>\n      <th></th>\n      <th></th>\n      <th></th>\n    </tr>\n  </thead>\n  <tbody>\n    <tr>\n      <th>S1222a</th>\n      <td>mqs2022isne</td>\n      <td>Aeolis Northeast</td>\n      <td>2022-05-04T23:23:07.710516Z</td>\n      <td>A</td>\n      <td>109</td>\n      <td>37.01401401</td>\n      <td>2022-05-04T23:27:45.192771Z</td>\n      <td>4.6</td>\n    </tr>\n    <tr>\n      <th>S0976a</th>\n      <td>mqs2021qpls</td>\n      <td>Coprates Northwest</td>\n      <td>2021-08-25T03:32:20.629953Z</td>\n      <td>A</td>\n      <td>101</td>\n      <td>146.2592593</td>\n      <td>2021-08-25T03:48:56.429772Z</td>\n      <td>4.3</td>\n    </tr>\n    <tr>\n      <th>S1000a</th>\n      <td>mqs2021sijy</td>\n      <td>Lunae Palus Northwest</td>\n      <td>2021-09-18T17:46:20.639751Z</td>\n      <td>A</td>\n      <td>55</td>\n      <td>128.2912913</td>\n      <td>2021-09-18T17:58:51.682539Z</td>\n      <td>4.1</td>\n    </tr>\n    <tr>\n      <th>S1094b</th>\n      <td>mqs2021zdzn</td>\n      <td>Diacria Southwest</td>\n      <td>2021-12-24T22:38:02.749173Z</td>\n      <td>A</td>\n      <td>40</td>\n      <td>59.65365365</td>\n      <td>2021-12-24T22:45:08.063325Z</td>\n      <td>4.0</td>\n    </tr>\n    <tr>\n      <th>S1133c</th>\n      <td>mqs2022cixp</td>\n      <td>Elysium Southeast</td>\n      <td>2022-02-03T08:04:36.469259Z</td>\n      <td>A</td>\n      <td>90</td>\n      <td>30.00650651</td>\n      <td>2022-02-03T08:08:24.753506Z</td>\n      <td>3.8</td>\n    </tr>\n    <tr>\n      <th>S0235b</th>\n      <td>mqs2019onhx</td>\n      <td>Elysium Southeast</td>\n      <td>2019-07-26T12:15:38.748239Z</td>\n      <td>A</td>\n      <td>258.0304683</td>\n      <td>28.74874872</td>\n      <td>2019-07-26T12:19:16.991001Z</td>\n      <td>3.7</td>\n    </tr>\n    <tr>\n      <th>S0173a</th>\n      <td>mqs2019jzqa</td>\n      <td>Elysium Southeast</td>\n      <td>2019-05-23T02:19:09.852879Z</td>\n      <td>A</td>\n      <td>91</td>\n      <td>30.00650651</td>\n      <td>2019-05-23T02:22:58.043698Z</td>\n      <td>3.7</td>\n    </tr>\n    <tr>\n      <th>S1048d</th>\n      <td>mqs2021vwbn</td>\n      <td>Elysium Southeast</td>\n      <td>2021-11-07T22:00:15.254098Z</td>\n      <td>A</td>\n      <td>100</td>\n      <td>30.18618619</td>\n      <td>2021-11-07T22:04:04.40886Z</td>\n      <td>3.6</td>\n    </tr>\n    <tr>\n      <th>S1022a</th>\n      <td>mqs2021tyvj</td>\n      <td>Elysium Northeast</td>\n      <td>2021-10-11T23:14:29.105382Z</td>\n      <td>A</td>\n      <td>63</td>\n      <td>30.72522523</td>\n      <td>2021-10-11T23:18:20.004721Z</td>\n      <td>3.6</td>\n    </tr>\n    <tr>\n      <th>S0820a</th>\n      <td>mqs2021fjzq</td>\n      <td>Aeolis Northeast</td>\n      <td>2021-03-18T14:51:33.869889Z</td>\n      <td>A</td>\n      <td>88</td>\n      <td>30.18618619</td>\n      <td>2021-03-18T14:54:19.835741Z</td>\n      <td>3.3</td>\n    </tr>\n    <tr>\n      <th>S0809a</th>\n      <td>mqs2021eppu</td>\n      <td>Elysium Southeast</td>\n      <td>2021-03-07T11:09:26.99714Z</td>\n      <td>A</td>\n      <td>87</td>\n      <td>29.82682683</td>\n      <td>2021-03-07T11:13:14.930832Z</td>\n      <td>3.3</td>\n    </tr>\n    <tr>\n      <th>S1102a</th>\n      <td>mqs2022aceh</td>\n      <td>Syrtis Major Northwest</td>\n      <td>2022-01-02T04:27:10.093677Z</td>\n      <td>A</td>\n      <td>295</td>\n      <td>73.30930931</td>\n      <td>2022-01-02T04:35:28.844688Z</td>\n      <td>3.2</td>\n    </tr>\n    <tr>\n      <th>S0864a</th>\n      <td>mqs2021indu</td>\n      <td>Elysium Southeast</td>\n      <td>2021-05-02T00:57:35.34519Z</td>\n      <td>A</td>\n      <td>278.295695</td>\n      <td>28.74874871</td>\n      <td>2021-05-02T01:01:05.534422Z</td>\n      <td>3.1</td>\n    </tr>\n    <tr>\n      <th>S1015f</th>\n      <td>mqs2021tkqn</td>\n      <td>Elysium Southeast</td>\n      <td>2021-10-04T04:52:29.248537Z</td>\n      <td>A</td>\n      <td>93</td>\n      <td>27.49099099</td>\n      <td>2021-10-04T04:55:55.150429Z</td>\n      <td>2.9</td>\n    </tr>\n  </tbody>\n</table>\n</div>"
     },
     "execution_count": 3,
     "metadata": {},
     "output_type": "execute_result"
    }
   ],
   "source": [
    "st_zne = {}\n",
    "events = pd.read_parquet(os.path.join(DATA_DIR, \"a_quality.parquet\"))\n",
    "for evt in events.index:\n",
    "    trace_file = TraceFile(network, station, location, events.loc[evt].id)\n",
    "    st_zne[evt] = obspy.read(os.path.join(DATA_DIR, \"zne\", str(trace_file)))\n",
    "events"
   ],
   "metadata": {
    "collapsed": false,
    "ExecuteTime": {
     "end_time": "2023-09-21T12:32:20.863295Z",
     "start_time": "2023-09-21T12:32:20.758593Z"
    }
   },
   "id": "81bddce88c9115cf"
  },
  {
   "cell_type": "markdown",
   "source": [
    "## Bandpass & DeTrend"
   ],
   "metadata": {
    "collapsed": false
   },
   "id": "bf327396ae62230c"
  },
  {
   "cell_type": "code",
   "execution_count": 4,
   "outputs": [],
   "source": [
    "for evt in events.index:\n",
    "    st_zne[evt].detrend()\n",
    "    st_zne[evt].filter(type=\"bandpass\", **bandpass)"
   ],
   "metadata": {
    "collapsed": false,
    "ExecuteTime": {
     "end_time": "2023-09-21T12:32:20.878158Z",
     "start_time": "2023-09-21T12:32:20.858675Z"
    }
   },
   "id": "a57e9b46e4438200"
  },
  {
   "cell_type": "markdown",
   "source": [
    "## Determine Polarisation"
   ],
   "metadata": {
    "collapsed": false
   },
   "id": "29bbdc9d345efad6"
  },
  {
   "cell_type": "code",
   "execution_count": 5,
   "outputs": [],
   "source": [
    "pa = {}\n",
    "\n",
    "for evt in events.index:\n",
    "    pa[evt] = polarization_azimuth(st_zne[evt], offset=before)._asdict()"
   ],
   "metadata": {
    "collapsed": false,
    "ExecuteTime": {
     "end_time": "2023-09-21T12:32:20.901005Z",
     "start_time": "2023-09-21T12:32:20.878932Z"
    }
   },
   "id": "3f88231224c68cf5"
  },
  {
   "cell_type": "code",
   "execution_count": 6,
   "outputs": [
    {
     "data": {
      "text/plain": "                 id             region name                         time  \\\nS1222a  mqs2022isne        Aeolis Northeast  2022-05-04T23:23:07.710516Z   \nS0976a  mqs2021qpls      Coprates Northwest  2021-08-25T03:32:20.629953Z   \nS1000a  mqs2021sijy   Lunae Palus Northwest  2021-09-18T17:46:20.639751Z   \nS1094b  mqs2021zdzn       Diacria Southwest  2021-12-24T22:38:02.749173Z   \nS1133c  mqs2022cixp       Elysium Southeast  2022-02-03T08:04:36.469259Z   \nS0235b  mqs2019onhx       Elysium Southeast  2019-07-26T12:15:38.748239Z   \nS0173a  mqs2019jzqa       Elysium Southeast  2019-05-23T02:19:09.852879Z   \nS1048d  mqs2021vwbn       Elysium Southeast  2021-11-07T22:00:15.254098Z   \nS1022a  mqs2021tyvj       Elysium Northeast  2021-10-11T23:14:29.105382Z   \nS0820a  mqs2021fjzq        Aeolis Northeast  2021-03-18T14:51:33.869889Z   \nS0809a  mqs2021eppu       Elysium Southeast   2021-03-07T11:09:26.99714Z   \nS1102a  mqs2022aceh  Syrtis Major Northwest  2022-01-02T04:27:10.093677Z   \nS0864a  mqs2021indu       Elysium Southeast   2021-05-02T00:57:35.34519Z   \nS1015f  mqs2021tkqn       Elysium Southeast  2021-10-04T04:52:29.248537Z   \nS1222a          NaN                     NaN                          NaN   \nS0976a          NaN                     NaN                          NaN   \nS1000a          NaN                     NaN                          NaN   \nS1094b          NaN                     NaN                          NaN   \nS1133c          NaN                     NaN                          NaN   \nS0235b          NaN                     NaN                          NaN   \nS0173a          NaN                     NaN                          NaN   \nS1048d          NaN                     NaN                          NaN   \nS1022a          NaN                     NaN                          NaN   \nS0820a          NaN                     NaN                          NaN   \nS0809a          NaN                     NaN                          NaN   \nS1102a          NaN                     NaN                          NaN   \nS0864a          NaN                     NaN                          NaN   \nS1015f          NaN                     NaN                          NaN   \n\n       quality  mqs_azimuth mqs_distance                est_p_arrival  M_w  \\\nS1222a       A          109  37.01401401  2022-05-04T23:27:45.192771Z  4.6   \nS0976a       A          101  146.2592593  2021-08-25T03:48:56.429772Z  4.3   \nS1000a       A           55  128.2912913  2021-09-18T17:58:51.682539Z  4.1   \nS1094b       A           40  59.65365365  2021-12-24T22:45:08.063325Z  4.0   \nS1133c       A           90  30.00650651  2022-02-03T08:08:24.753506Z  3.8   \nS0235b       A  258.0304683  28.74874872  2019-07-26T12:19:16.991001Z  3.7   \nS0173a       A           91  30.00650651  2019-05-23T02:22:58.043698Z  3.7   \nS1048d       A          100  30.18618619   2021-11-07T22:04:04.40886Z  3.6   \nS1022a       A           63  30.72522523  2021-10-11T23:18:20.004721Z  3.6   \nS0820a       A           88  30.18618619  2021-03-18T14:54:19.835741Z  3.3   \nS0809a       A           87  29.82682683  2021-03-07T11:13:14.930832Z  3.3   \nS1102a       A          295  73.30930931  2022-01-02T04:35:28.844688Z  3.2   \nS0864a       A   278.295695  28.74874871  2021-05-02T01:01:05.534422Z  3.1   \nS1015f       A           93  27.49099099  2021-10-04T04:55:55.150429Z  2.9   \nS1222a     NaN          NaN          NaN                          NaN  NaN   \nS0976a     NaN          NaN          NaN                          NaN  NaN   \nS1000a     NaN          NaN          NaN                          NaN  NaN   \nS1094b     NaN          NaN          NaN                          NaN  NaN   \nS1133c     NaN          NaN          NaN                          NaN  NaN   \nS0235b     NaN          NaN          NaN                          NaN  NaN   \nS0173a     NaN          NaN          NaN                          NaN  NaN   \nS1048d     NaN          NaN          NaN                          NaN  NaN   \nS1022a     NaN          NaN          NaN                          NaN  NaN   \nS0820a     NaN          NaN          NaN                          NaN  NaN   \nS0809a     NaN          NaN          NaN                          NaN  NaN   \nS1102a     NaN          NaN          NaN                          NaN  NaN   \nS0864a     NaN          NaN          NaN                          NaN  NaN   \nS1015f     NaN          NaN          NaN                          NaN  NaN   \n\n           azimuth  incident_angle  angle_err  \nS1222a         NaN             NaN        NaN  \nS0976a         NaN             NaN        NaN  \nS1000a         NaN             NaN        NaN  \nS1094b         NaN             NaN        NaN  \nS1133c         NaN             NaN        NaN  \nS0235b         NaN             NaN        NaN  \nS0173a         NaN             NaN        NaN  \nS1048d         NaN             NaN        NaN  \nS1022a         NaN             NaN        NaN  \nS0820a         NaN             NaN        NaN  \nS0809a         NaN             NaN        NaN  \nS1102a         NaN             NaN        NaN  \nS0864a         NaN             NaN        NaN  \nS1015f         NaN             NaN        NaN  \nS1222a  118.596762       52.527088        NaN  \nS0976a   99.241762       79.648116        NaN  \nS1000a  142.593125       69.440143        NaN  \nS1094b   56.804709       30.862585        NaN  \nS1133c   88.600517       24.920588        NaN  \nS0235b   99.936025       12.958863        NaN  \nS0173a   88.581636       32.134840        NaN  \nS1048d   93.604182       18.020035        NaN  \nS1022a   94.651290       35.359948        NaN  \nS0820a  120.750795       71.913023        NaN  \nS0809a   87.045048       41.564713        NaN  \nS1102a  108.534041       79.988487        NaN  \nS0864a  165.791480       69.010690        NaN  \nS1015f  135.097486       24.023984        NaN  ",
      "text/html": "<div>\n<style scoped>\n    .dataframe tbody tr th:only-of-type {\n        vertical-align: middle;\n    }\n\n    .dataframe tbody tr th {\n        vertical-align: top;\n    }\n\n    .dataframe thead th {\n        text-align: right;\n    }\n</style>\n<table border=\"1\" class=\"dataframe\">\n  <thead>\n    <tr style=\"text-align: right;\">\n      <th></th>\n      <th>id</th>\n      <th>region name</th>\n      <th>time</th>\n      <th>quality</th>\n      <th>mqs_azimuth</th>\n      <th>mqs_distance</th>\n      <th>est_p_arrival</th>\n      <th>M_w</th>\n      <th>azimuth</th>\n      <th>incident_angle</th>\n      <th>angle_err</th>\n    </tr>\n  </thead>\n  <tbody>\n    <tr>\n      <th>S1222a</th>\n      <td>mqs2022isne</td>\n      <td>Aeolis Northeast</td>\n      <td>2022-05-04T23:23:07.710516Z</td>\n      <td>A</td>\n      <td>109</td>\n      <td>37.01401401</td>\n      <td>2022-05-04T23:27:45.192771Z</td>\n      <td>4.6</td>\n      <td>NaN</td>\n      <td>NaN</td>\n      <td>NaN</td>\n    </tr>\n    <tr>\n      <th>S0976a</th>\n      <td>mqs2021qpls</td>\n      <td>Coprates Northwest</td>\n      <td>2021-08-25T03:32:20.629953Z</td>\n      <td>A</td>\n      <td>101</td>\n      <td>146.2592593</td>\n      <td>2021-08-25T03:48:56.429772Z</td>\n      <td>4.3</td>\n      <td>NaN</td>\n      <td>NaN</td>\n      <td>NaN</td>\n    </tr>\n    <tr>\n      <th>S1000a</th>\n      <td>mqs2021sijy</td>\n      <td>Lunae Palus Northwest</td>\n      <td>2021-09-18T17:46:20.639751Z</td>\n      <td>A</td>\n      <td>55</td>\n      <td>128.2912913</td>\n      <td>2021-09-18T17:58:51.682539Z</td>\n      <td>4.1</td>\n      <td>NaN</td>\n      <td>NaN</td>\n      <td>NaN</td>\n    </tr>\n    <tr>\n      <th>S1094b</th>\n      <td>mqs2021zdzn</td>\n      <td>Diacria Southwest</td>\n      <td>2021-12-24T22:38:02.749173Z</td>\n      <td>A</td>\n      <td>40</td>\n      <td>59.65365365</td>\n      <td>2021-12-24T22:45:08.063325Z</td>\n      <td>4.0</td>\n      <td>NaN</td>\n      <td>NaN</td>\n      <td>NaN</td>\n    </tr>\n    <tr>\n      <th>S1133c</th>\n      <td>mqs2022cixp</td>\n      <td>Elysium Southeast</td>\n      <td>2022-02-03T08:04:36.469259Z</td>\n      <td>A</td>\n      <td>90</td>\n      <td>30.00650651</td>\n      <td>2022-02-03T08:08:24.753506Z</td>\n      <td>3.8</td>\n      <td>NaN</td>\n      <td>NaN</td>\n      <td>NaN</td>\n    </tr>\n    <tr>\n      <th>S0235b</th>\n      <td>mqs2019onhx</td>\n      <td>Elysium Southeast</td>\n      <td>2019-07-26T12:15:38.748239Z</td>\n      <td>A</td>\n      <td>258.0304683</td>\n      <td>28.74874872</td>\n      <td>2019-07-26T12:19:16.991001Z</td>\n      <td>3.7</td>\n      <td>NaN</td>\n      <td>NaN</td>\n      <td>NaN</td>\n    </tr>\n    <tr>\n      <th>S0173a</th>\n      <td>mqs2019jzqa</td>\n      <td>Elysium Southeast</td>\n      <td>2019-05-23T02:19:09.852879Z</td>\n      <td>A</td>\n      <td>91</td>\n      <td>30.00650651</td>\n      <td>2019-05-23T02:22:58.043698Z</td>\n      <td>3.7</td>\n      <td>NaN</td>\n      <td>NaN</td>\n      <td>NaN</td>\n    </tr>\n    <tr>\n      <th>S1048d</th>\n      <td>mqs2021vwbn</td>\n      <td>Elysium Southeast</td>\n      <td>2021-11-07T22:00:15.254098Z</td>\n      <td>A</td>\n      <td>100</td>\n      <td>30.18618619</td>\n      <td>2021-11-07T22:04:04.40886Z</td>\n      <td>3.6</td>\n      <td>NaN</td>\n      <td>NaN</td>\n      <td>NaN</td>\n    </tr>\n    <tr>\n      <th>S1022a</th>\n      <td>mqs2021tyvj</td>\n      <td>Elysium Northeast</td>\n      <td>2021-10-11T23:14:29.105382Z</td>\n      <td>A</td>\n      <td>63</td>\n      <td>30.72522523</td>\n      <td>2021-10-11T23:18:20.004721Z</td>\n      <td>3.6</td>\n      <td>NaN</td>\n      <td>NaN</td>\n      <td>NaN</td>\n    </tr>\n    <tr>\n      <th>S0820a</th>\n      <td>mqs2021fjzq</td>\n      <td>Aeolis Northeast</td>\n      <td>2021-03-18T14:51:33.869889Z</td>\n      <td>A</td>\n      <td>88</td>\n      <td>30.18618619</td>\n      <td>2021-03-18T14:54:19.835741Z</td>\n      <td>3.3</td>\n      <td>NaN</td>\n      <td>NaN</td>\n      <td>NaN</td>\n    </tr>\n    <tr>\n      <th>S0809a</th>\n      <td>mqs2021eppu</td>\n      <td>Elysium Southeast</td>\n      <td>2021-03-07T11:09:26.99714Z</td>\n      <td>A</td>\n      <td>87</td>\n      <td>29.82682683</td>\n      <td>2021-03-07T11:13:14.930832Z</td>\n      <td>3.3</td>\n      <td>NaN</td>\n      <td>NaN</td>\n      <td>NaN</td>\n    </tr>\n    <tr>\n      <th>S1102a</th>\n      <td>mqs2022aceh</td>\n      <td>Syrtis Major Northwest</td>\n      <td>2022-01-02T04:27:10.093677Z</td>\n      <td>A</td>\n      <td>295</td>\n      <td>73.30930931</td>\n      <td>2022-01-02T04:35:28.844688Z</td>\n      <td>3.2</td>\n      <td>NaN</td>\n      <td>NaN</td>\n      <td>NaN</td>\n    </tr>\n    <tr>\n      <th>S0864a</th>\n      <td>mqs2021indu</td>\n      <td>Elysium Southeast</td>\n      <td>2021-05-02T00:57:35.34519Z</td>\n      <td>A</td>\n      <td>278.295695</td>\n      <td>28.74874871</td>\n      <td>2021-05-02T01:01:05.534422Z</td>\n      <td>3.1</td>\n      <td>NaN</td>\n      <td>NaN</td>\n      <td>NaN</td>\n    </tr>\n    <tr>\n      <th>S1015f</th>\n      <td>mqs2021tkqn</td>\n      <td>Elysium Southeast</td>\n      <td>2021-10-04T04:52:29.248537Z</td>\n      <td>A</td>\n      <td>93</td>\n      <td>27.49099099</td>\n      <td>2021-10-04T04:55:55.150429Z</td>\n      <td>2.9</td>\n      <td>NaN</td>\n      <td>NaN</td>\n      <td>NaN</td>\n    </tr>\n    <tr>\n      <th>S1222a</th>\n      <td>NaN</td>\n      <td>NaN</td>\n      <td>NaN</td>\n      <td>NaN</td>\n      <td>NaN</td>\n      <td>NaN</td>\n      <td>NaN</td>\n      <td>NaN</td>\n      <td>118.596762</td>\n      <td>52.527088</td>\n      <td>NaN</td>\n    </tr>\n    <tr>\n      <th>S0976a</th>\n      <td>NaN</td>\n      <td>NaN</td>\n      <td>NaN</td>\n      <td>NaN</td>\n      <td>NaN</td>\n      <td>NaN</td>\n      <td>NaN</td>\n      <td>NaN</td>\n      <td>99.241762</td>\n      <td>79.648116</td>\n      <td>NaN</td>\n    </tr>\n    <tr>\n      <th>S1000a</th>\n      <td>NaN</td>\n      <td>NaN</td>\n      <td>NaN</td>\n      <td>NaN</td>\n      <td>NaN</td>\n      <td>NaN</td>\n      <td>NaN</td>\n      <td>NaN</td>\n      <td>142.593125</td>\n      <td>69.440143</td>\n      <td>NaN</td>\n    </tr>\n    <tr>\n      <th>S1094b</th>\n      <td>NaN</td>\n      <td>NaN</td>\n      <td>NaN</td>\n      <td>NaN</td>\n      <td>NaN</td>\n      <td>NaN</td>\n      <td>NaN</td>\n      <td>NaN</td>\n      <td>56.804709</td>\n      <td>30.862585</td>\n      <td>NaN</td>\n    </tr>\n    <tr>\n      <th>S1133c</th>\n      <td>NaN</td>\n      <td>NaN</td>\n      <td>NaN</td>\n      <td>NaN</td>\n      <td>NaN</td>\n      <td>NaN</td>\n      <td>NaN</td>\n      <td>NaN</td>\n      <td>88.600517</td>\n      <td>24.920588</td>\n      <td>NaN</td>\n    </tr>\n    <tr>\n      <th>S0235b</th>\n      <td>NaN</td>\n      <td>NaN</td>\n      <td>NaN</td>\n      <td>NaN</td>\n      <td>NaN</td>\n      <td>NaN</td>\n      <td>NaN</td>\n      <td>NaN</td>\n      <td>99.936025</td>\n      <td>12.958863</td>\n      <td>NaN</td>\n    </tr>\n    <tr>\n      <th>S0173a</th>\n      <td>NaN</td>\n      <td>NaN</td>\n      <td>NaN</td>\n      <td>NaN</td>\n      <td>NaN</td>\n      <td>NaN</td>\n      <td>NaN</td>\n      <td>NaN</td>\n      <td>88.581636</td>\n      <td>32.134840</td>\n      <td>NaN</td>\n    </tr>\n    <tr>\n      <th>S1048d</th>\n      <td>NaN</td>\n      <td>NaN</td>\n      <td>NaN</td>\n      <td>NaN</td>\n      <td>NaN</td>\n      <td>NaN</td>\n      <td>NaN</td>\n      <td>NaN</td>\n      <td>93.604182</td>\n      <td>18.020035</td>\n      <td>NaN</td>\n    </tr>\n    <tr>\n      <th>S1022a</th>\n      <td>NaN</td>\n      <td>NaN</td>\n      <td>NaN</td>\n      <td>NaN</td>\n      <td>NaN</td>\n      <td>NaN</td>\n      <td>NaN</td>\n      <td>NaN</td>\n      <td>94.651290</td>\n      <td>35.359948</td>\n      <td>NaN</td>\n    </tr>\n    <tr>\n      <th>S0820a</th>\n      <td>NaN</td>\n      <td>NaN</td>\n      <td>NaN</td>\n      <td>NaN</td>\n      <td>NaN</td>\n      <td>NaN</td>\n      <td>NaN</td>\n      <td>NaN</td>\n      <td>120.750795</td>\n      <td>71.913023</td>\n      <td>NaN</td>\n    </tr>\n    <tr>\n      <th>S0809a</th>\n      <td>NaN</td>\n      <td>NaN</td>\n      <td>NaN</td>\n      <td>NaN</td>\n      <td>NaN</td>\n      <td>NaN</td>\n      <td>NaN</td>\n      <td>NaN</td>\n      <td>87.045048</td>\n      <td>41.564713</td>\n      <td>NaN</td>\n    </tr>\n    <tr>\n      <th>S1102a</th>\n      <td>NaN</td>\n      <td>NaN</td>\n      <td>NaN</td>\n      <td>NaN</td>\n      <td>NaN</td>\n      <td>NaN</td>\n      <td>NaN</td>\n      <td>NaN</td>\n      <td>108.534041</td>\n      <td>79.988487</td>\n      <td>NaN</td>\n    </tr>\n    <tr>\n      <th>S0864a</th>\n      <td>NaN</td>\n      <td>NaN</td>\n      <td>NaN</td>\n      <td>NaN</td>\n      <td>NaN</td>\n      <td>NaN</td>\n      <td>NaN</td>\n      <td>NaN</td>\n      <td>165.791480</td>\n      <td>69.010690</td>\n      <td>NaN</td>\n    </tr>\n    <tr>\n      <th>S1015f</th>\n      <td>NaN</td>\n      <td>NaN</td>\n      <td>NaN</td>\n      <td>NaN</td>\n      <td>NaN</td>\n      <td>NaN</td>\n      <td>NaN</td>\n      <td>NaN</td>\n      <td>135.097486</td>\n      <td>24.023984</td>\n      <td>NaN</td>\n    </tr>\n  </tbody>\n</table>\n</div>"
     },
     "execution_count": 6,
     "metadata": {},
     "output_type": "execute_result"
    }
   ],
   "source": [
    "# events = pd.merge(events, pd.DataFrame(pa).T, left_index=True, right_index=True)\n",
    "events = pd.concat((events, pd.DataFrame(pa).T))\n",
    "events[\"angle_err\"] = events.apply(lambda e: angle_err(e.azimuth, float(e.mqs_azimuth)), axis=1)\n",
    "events\n",
    "\n",
    "# # Plot\n",
    "# ax = plt.subplot(111, polar=True)\n",
    "# ax.plot([i[\"azimuth\"] for i in pa.values()], [i[\"incident_angle\"] for i in pa.values()], \"ro\")\n",
    "# ax.set_theta_direction(-1)\n",
    "# ax.set_theta_zero_location(\"N\")"
   ],
   "metadata": {
    "collapsed": false,
    "ExecuteTime": {
     "end_time": "2023-09-21T12:32:20.953908Z",
     "start_time": "2023-09-21T12:32:20.888204Z"
    }
   },
   "id": "d91c719125fec2bd"
  },
  {
   "cell_type": "code",
   "execution_count": 7,
   "outputs": [
    {
     "data": {
      "text/plain": "                 id             region name                         time  \\\nS1222a  mqs2022isne        Aeolis Northeast  2022-05-04T23:23:07.710516Z   \nS0976a  mqs2021qpls      Coprates Northwest  2021-08-25T03:32:20.629953Z   \nS1000a  mqs2021sijy   Lunae Palus Northwest  2021-09-18T17:46:20.639751Z   \nS1094b  mqs2021zdzn       Diacria Southwest  2021-12-24T22:38:02.749173Z   \nS1133c  mqs2022cixp       Elysium Southeast  2022-02-03T08:04:36.469259Z   \nS0235b  mqs2019onhx       Elysium Southeast  2019-07-26T12:15:38.748239Z   \nS0173a  mqs2019jzqa       Elysium Southeast  2019-05-23T02:19:09.852879Z   \nS1048d  mqs2021vwbn       Elysium Southeast  2021-11-07T22:00:15.254098Z   \nS1022a  mqs2021tyvj       Elysium Northeast  2021-10-11T23:14:29.105382Z   \nS0820a  mqs2021fjzq        Aeolis Northeast  2021-03-18T14:51:33.869889Z   \nS0809a  mqs2021eppu       Elysium Southeast   2021-03-07T11:09:26.99714Z   \nS1102a  mqs2022aceh  Syrtis Major Northwest  2022-01-02T04:27:10.093677Z   \nS0864a  mqs2021indu       Elysium Southeast   2021-05-02T00:57:35.34519Z   \nS1015f  mqs2021tkqn       Elysium Southeast  2021-10-04T04:52:29.248537Z   \nS1222a          NaN                     NaN                          NaN   \nS0976a          NaN                     NaN                          NaN   \nS1000a          NaN                     NaN                          NaN   \nS1094b          NaN                     NaN                          NaN   \nS1133c          NaN                     NaN                          NaN   \nS0235b          NaN                     NaN                          NaN   \nS0173a          NaN                     NaN                          NaN   \nS1048d          NaN                     NaN                          NaN   \nS1022a          NaN                     NaN                          NaN   \nS0820a          NaN                     NaN                          NaN   \nS0809a          NaN                     NaN                          NaN   \nS1102a          NaN                     NaN                          NaN   \nS0864a          NaN                     NaN                          NaN   \nS1015f          NaN                     NaN                          NaN   \n\n       quality  mqs_azimuth mqs_distance                est_p_arrival  M_w  \\\nS1222a       A          109  37.01401401  2022-05-04T23:27:45.192771Z  4.6   \nS0976a       A          101  146.2592593  2021-08-25T03:48:56.429772Z  4.3   \nS1000a       A           55  128.2912913  2021-09-18T17:58:51.682539Z  4.1   \nS1094b       A           40  59.65365365  2021-12-24T22:45:08.063325Z  4.0   \nS1133c       A           90  30.00650651  2022-02-03T08:08:24.753506Z  3.8   \nS0235b       A  258.0304683  28.74874872  2019-07-26T12:19:16.991001Z  3.7   \nS0173a       A           91  30.00650651  2019-05-23T02:22:58.043698Z  3.7   \nS1048d       A          100  30.18618619   2021-11-07T22:04:04.40886Z  3.6   \nS1022a       A           63  30.72522523  2021-10-11T23:18:20.004721Z  3.6   \nS0820a       A           88  30.18618619  2021-03-18T14:54:19.835741Z  3.3   \nS0809a       A           87  29.82682683  2021-03-07T11:13:14.930832Z  3.3   \nS1102a       A          295  73.30930931  2022-01-02T04:35:28.844688Z  3.2   \nS0864a       A   278.295695  28.74874871  2021-05-02T01:01:05.534422Z  3.1   \nS1015f       A           93  27.49099099  2021-10-04T04:55:55.150429Z  2.9   \nS1222a     NaN          NaN          NaN                          NaN  NaN   \nS0976a     NaN          NaN          NaN                          NaN  NaN   \nS1000a     NaN          NaN          NaN                          NaN  NaN   \nS1094b     NaN          NaN          NaN                          NaN  NaN   \nS1133c     NaN          NaN          NaN                          NaN  NaN   \nS0235b     NaN          NaN          NaN                          NaN  NaN   \nS0173a     NaN          NaN          NaN                          NaN  NaN   \nS1048d     NaN          NaN          NaN                          NaN  NaN   \nS1022a     NaN          NaN          NaN                          NaN  NaN   \nS0820a     NaN          NaN          NaN                          NaN  NaN   \nS0809a     NaN          NaN          NaN                          NaN  NaN   \nS1102a     NaN          NaN          NaN                          NaN  NaN   \nS0864a     NaN          NaN          NaN                          NaN  NaN   \nS1015f     NaN          NaN          NaN                          NaN  NaN   \n\n           azimuth  incident_angle  angle_err  \nS1222a         NaN             NaN        NaN  \nS0976a         NaN             NaN        NaN  \nS1000a         NaN             NaN        NaN  \nS1094b         NaN             NaN        NaN  \nS1133c         NaN             NaN        NaN  \nS0235b         NaN             NaN        NaN  \nS0173a         NaN             NaN        NaN  \nS1048d         NaN             NaN        NaN  \nS1022a         NaN             NaN        NaN  \nS0820a         NaN             NaN        NaN  \nS0809a         NaN             NaN        NaN  \nS1102a         NaN             NaN        NaN  \nS0864a         NaN             NaN        NaN  \nS1015f         NaN             NaN        NaN  \nS1222a  118.596762       52.527088        NaN  \nS0976a   99.241762       79.648116        NaN  \nS1000a  142.593125       69.440143        NaN  \nS1094b   56.804709       30.862585        NaN  \nS1133c   88.600517       24.920588        NaN  \nS0235b   99.936025       12.958863        NaN  \nS0173a   88.581636       32.134840        NaN  \nS1048d   93.604182       18.020035        NaN  \nS1022a   94.651290       35.359948        NaN  \nS0820a  120.750795       71.913023        NaN  \nS0809a   87.045048       41.564713        NaN  \nS1102a  108.534041       79.988487        NaN  \nS0864a  165.791480       69.010690        NaN  \nS1015f  135.097486       24.023984        NaN  ",
      "text/html": "<div>\n<style scoped>\n    .dataframe tbody tr th:only-of-type {\n        vertical-align: middle;\n    }\n\n    .dataframe tbody tr th {\n        vertical-align: top;\n    }\n\n    .dataframe thead th {\n        text-align: right;\n    }\n</style>\n<table border=\"1\" class=\"dataframe\">\n  <thead>\n    <tr style=\"text-align: right;\">\n      <th></th>\n      <th>id</th>\n      <th>region name</th>\n      <th>time</th>\n      <th>quality</th>\n      <th>mqs_azimuth</th>\n      <th>mqs_distance</th>\n      <th>est_p_arrival</th>\n      <th>M_w</th>\n      <th>azimuth</th>\n      <th>incident_angle</th>\n      <th>angle_err</th>\n    </tr>\n  </thead>\n  <tbody>\n    <tr>\n      <th>S1222a</th>\n      <td>mqs2022isne</td>\n      <td>Aeolis Northeast</td>\n      <td>2022-05-04T23:23:07.710516Z</td>\n      <td>A</td>\n      <td>109</td>\n      <td>37.01401401</td>\n      <td>2022-05-04T23:27:45.192771Z</td>\n      <td>4.6</td>\n      <td>NaN</td>\n      <td>NaN</td>\n      <td>NaN</td>\n    </tr>\n    <tr>\n      <th>S0976a</th>\n      <td>mqs2021qpls</td>\n      <td>Coprates Northwest</td>\n      <td>2021-08-25T03:32:20.629953Z</td>\n      <td>A</td>\n      <td>101</td>\n      <td>146.2592593</td>\n      <td>2021-08-25T03:48:56.429772Z</td>\n      <td>4.3</td>\n      <td>NaN</td>\n      <td>NaN</td>\n      <td>NaN</td>\n    </tr>\n    <tr>\n      <th>S1000a</th>\n      <td>mqs2021sijy</td>\n      <td>Lunae Palus Northwest</td>\n      <td>2021-09-18T17:46:20.639751Z</td>\n      <td>A</td>\n      <td>55</td>\n      <td>128.2912913</td>\n      <td>2021-09-18T17:58:51.682539Z</td>\n      <td>4.1</td>\n      <td>NaN</td>\n      <td>NaN</td>\n      <td>NaN</td>\n    </tr>\n    <tr>\n      <th>S1094b</th>\n      <td>mqs2021zdzn</td>\n      <td>Diacria Southwest</td>\n      <td>2021-12-24T22:38:02.749173Z</td>\n      <td>A</td>\n      <td>40</td>\n      <td>59.65365365</td>\n      <td>2021-12-24T22:45:08.063325Z</td>\n      <td>4.0</td>\n      <td>NaN</td>\n      <td>NaN</td>\n      <td>NaN</td>\n    </tr>\n    <tr>\n      <th>S1133c</th>\n      <td>mqs2022cixp</td>\n      <td>Elysium Southeast</td>\n      <td>2022-02-03T08:04:36.469259Z</td>\n      <td>A</td>\n      <td>90</td>\n      <td>30.00650651</td>\n      <td>2022-02-03T08:08:24.753506Z</td>\n      <td>3.8</td>\n      <td>NaN</td>\n      <td>NaN</td>\n      <td>NaN</td>\n    </tr>\n    <tr>\n      <th>S0235b</th>\n      <td>mqs2019onhx</td>\n      <td>Elysium Southeast</td>\n      <td>2019-07-26T12:15:38.748239Z</td>\n      <td>A</td>\n      <td>258.0304683</td>\n      <td>28.74874872</td>\n      <td>2019-07-26T12:19:16.991001Z</td>\n      <td>3.7</td>\n      <td>NaN</td>\n      <td>NaN</td>\n      <td>NaN</td>\n    </tr>\n    <tr>\n      <th>S0173a</th>\n      <td>mqs2019jzqa</td>\n      <td>Elysium Southeast</td>\n      <td>2019-05-23T02:19:09.852879Z</td>\n      <td>A</td>\n      <td>91</td>\n      <td>30.00650651</td>\n      <td>2019-05-23T02:22:58.043698Z</td>\n      <td>3.7</td>\n      <td>NaN</td>\n      <td>NaN</td>\n      <td>NaN</td>\n    </tr>\n    <tr>\n      <th>S1048d</th>\n      <td>mqs2021vwbn</td>\n      <td>Elysium Southeast</td>\n      <td>2021-11-07T22:00:15.254098Z</td>\n      <td>A</td>\n      <td>100</td>\n      <td>30.18618619</td>\n      <td>2021-11-07T22:04:04.40886Z</td>\n      <td>3.6</td>\n      <td>NaN</td>\n      <td>NaN</td>\n      <td>NaN</td>\n    </tr>\n    <tr>\n      <th>S1022a</th>\n      <td>mqs2021tyvj</td>\n      <td>Elysium Northeast</td>\n      <td>2021-10-11T23:14:29.105382Z</td>\n      <td>A</td>\n      <td>63</td>\n      <td>30.72522523</td>\n      <td>2021-10-11T23:18:20.004721Z</td>\n      <td>3.6</td>\n      <td>NaN</td>\n      <td>NaN</td>\n      <td>NaN</td>\n    </tr>\n    <tr>\n      <th>S0820a</th>\n      <td>mqs2021fjzq</td>\n      <td>Aeolis Northeast</td>\n      <td>2021-03-18T14:51:33.869889Z</td>\n      <td>A</td>\n      <td>88</td>\n      <td>30.18618619</td>\n      <td>2021-03-18T14:54:19.835741Z</td>\n      <td>3.3</td>\n      <td>NaN</td>\n      <td>NaN</td>\n      <td>NaN</td>\n    </tr>\n    <tr>\n      <th>S0809a</th>\n      <td>mqs2021eppu</td>\n      <td>Elysium Southeast</td>\n      <td>2021-03-07T11:09:26.99714Z</td>\n      <td>A</td>\n      <td>87</td>\n      <td>29.82682683</td>\n      <td>2021-03-07T11:13:14.930832Z</td>\n      <td>3.3</td>\n      <td>NaN</td>\n      <td>NaN</td>\n      <td>NaN</td>\n    </tr>\n    <tr>\n      <th>S1102a</th>\n      <td>mqs2022aceh</td>\n      <td>Syrtis Major Northwest</td>\n      <td>2022-01-02T04:27:10.093677Z</td>\n      <td>A</td>\n      <td>295</td>\n      <td>73.30930931</td>\n      <td>2022-01-02T04:35:28.844688Z</td>\n      <td>3.2</td>\n      <td>NaN</td>\n      <td>NaN</td>\n      <td>NaN</td>\n    </tr>\n    <tr>\n      <th>S0864a</th>\n      <td>mqs2021indu</td>\n      <td>Elysium Southeast</td>\n      <td>2021-05-02T00:57:35.34519Z</td>\n      <td>A</td>\n      <td>278.295695</td>\n      <td>28.74874871</td>\n      <td>2021-05-02T01:01:05.534422Z</td>\n      <td>3.1</td>\n      <td>NaN</td>\n      <td>NaN</td>\n      <td>NaN</td>\n    </tr>\n    <tr>\n      <th>S1015f</th>\n      <td>mqs2021tkqn</td>\n      <td>Elysium Southeast</td>\n      <td>2021-10-04T04:52:29.248537Z</td>\n      <td>A</td>\n      <td>93</td>\n      <td>27.49099099</td>\n      <td>2021-10-04T04:55:55.150429Z</td>\n      <td>2.9</td>\n      <td>NaN</td>\n      <td>NaN</td>\n      <td>NaN</td>\n    </tr>\n    <tr>\n      <th>S1222a</th>\n      <td>NaN</td>\n      <td>NaN</td>\n      <td>NaN</td>\n      <td>NaN</td>\n      <td>NaN</td>\n      <td>NaN</td>\n      <td>NaN</td>\n      <td>NaN</td>\n      <td>118.596762</td>\n      <td>52.527088</td>\n      <td>NaN</td>\n    </tr>\n    <tr>\n      <th>S0976a</th>\n      <td>NaN</td>\n      <td>NaN</td>\n      <td>NaN</td>\n      <td>NaN</td>\n      <td>NaN</td>\n      <td>NaN</td>\n      <td>NaN</td>\n      <td>NaN</td>\n      <td>99.241762</td>\n      <td>79.648116</td>\n      <td>NaN</td>\n    </tr>\n    <tr>\n      <th>S1000a</th>\n      <td>NaN</td>\n      <td>NaN</td>\n      <td>NaN</td>\n      <td>NaN</td>\n      <td>NaN</td>\n      <td>NaN</td>\n      <td>NaN</td>\n      <td>NaN</td>\n      <td>142.593125</td>\n      <td>69.440143</td>\n      <td>NaN</td>\n    </tr>\n    <tr>\n      <th>S1094b</th>\n      <td>NaN</td>\n      <td>NaN</td>\n      <td>NaN</td>\n      <td>NaN</td>\n      <td>NaN</td>\n      <td>NaN</td>\n      <td>NaN</td>\n      <td>NaN</td>\n      <td>56.804709</td>\n      <td>30.862585</td>\n      <td>NaN</td>\n    </tr>\n    <tr>\n      <th>S1133c</th>\n      <td>NaN</td>\n      <td>NaN</td>\n      <td>NaN</td>\n      <td>NaN</td>\n      <td>NaN</td>\n      <td>NaN</td>\n      <td>NaN</td>\n      <td>NaN</td>\n      <td>88.600517</td>\n      <td>24.920588</td>\n      <td>NaN</td>\n    </tr>\n    <tr>\n      <th>S0235b</th>\n      <td>NaN</td>\n      <td>NaN</td>\n      <td>NaN</td>\n      <td>NaN</td>\n      <td>NaN</td>\n      <td>NaN</td>\n      <td>NaN</td>\n      <td>NaN</td>\n      <td>99.936025</td>\n      <td>12.958863</td>\n      <td>NaN</td>\n    </tr>\n    <tr>\n      <th>S0173a</th>\n      <td>NaN</td>\n      <td>NaN</td>\n      <td>NaN</td>\n      <td>NaN</td>\n      <td>NaN</td>\n      <td>NaN</td>\n      <td>NaN</td>\n      <td>NaN</td>\n      <td>88.581636</td>\n      <td>32.134840</td>\n      <td>NaN</td>\n    </tr>\n    <tr>\n      <th>S1048d</th>\n      <td>NaN</td>\n      <td>NaN</td>\n      <td>NaN</td>\n      <td>NaN</td>\n      <td>NaN</td>\n      <td>NaN</td>\n      <td>NaN</td>\n      <td>NaN</td>\n      <td>93.604182</td>\n      <td>18.020035</td>\n      <td>NaN</td>\n    </tr>\n    <tr>\n      <th>S1022a</th>\n      <td>NaN</td>\n      <td>NaN</td>\n      <td>NaN</td>\n      <td>NaN</td>\n      <td>NaN</td>\n      <td>NaN</td>\n      <td>NaN</td>\n      <td>NaN</td>\n      <td>94.651290</td>\n      <td>35.359948</td>\n      <td>NaN</td>\n    </tr>\n    <tr>\n      <th>S0820a</th>\n      <td>NaN</td>\n      <td>NaN</td>\n      <td>NaN</td>\n      <td>NaN</td>\n      <td>NaN</td>\n      <td>NaN</td>\n      <td>NaN</td>\n      <td>NaN</td>\n      <td>120.750795</td>\n      <td>71.913023</td>\n      <td>NaN</td>\n    </tr>\n    <tr>\n      <th>S0809a</th>\n      <td>NaN</td>\n      <td>NaN</td>\n      <td>NaN</td>\n      <td>NaN</td>\n      <td>NaN</td>\n      <td>NaN</td>\n      <td>NaN</td>\n      <td>NaN</td>\n      <td>87.045048</td>\n      <td>41.564713</td>\n      <td>NaN</td>\n    </tr>\n    <tr>\n      <th>S1102a</th>\n      <td>NaN</td>\n      <td>NaN</td>\n      <td>NaN</td>\n      <td>NaN</td>\n      <td>NaN</td>\n      <td>NaN</td>\n      <td>NaN</td>\n      <td>NaN</td>\n      <td>108.534041</td>\n      <td>79.988487</td>\n      <td>NaN</td>\n    </tr>\n    <tr>\n      <th>S0864a</th>\n      <td>NaN</td>\n      <td>NaN</td>\n      <td>NaN</td>\n      <td>NaN</td>\n      <td>NaN</td>\n      <td>NaN</td>\n      <td>NaN</td>\n      <td>NaN</td>\n      <td>165.791480</td>\n      <td>69.010690</td>\n      <td>NaN</td>\n    </tr>\n    <tr>\n      <th>S1015f</th>\n      <td>NaN</td>\n      <td>NaN</td>\n      <td>NaN</td>\n      <td>NaN</td>\n      <td>NaN</td>\n      <td>NaN</td>\n      <td>NaN</td>\n      <td>NaN</td>\n      <td>135.097486</td>\n      <td>24.023984</td>\n      <td>NaN</td>\n    </tr>\n  </tbody>\n</table>\n</div>"
     },
     "execution_count": 7,
     "metadata": {},
     "output_type": "execute_result"
    }
   ],
   "source": [
    "events"
   ],
   "metadata": {
    "collapsed": false,
    "ExecuteTime": {
     "end_time": "2023-09-21T12:32:20.954381Z",
     "start_time": "2023-09-21T12:32:20.898203Z"
    }
   },
   "id": "30e29f7821a7af07"
  },
  {
   "cell_type": "code",
   "execution_count": 7,
   "outputs": [],
   "source": [],
   "metadata": {
    "collapsed": false,
    "ExecuteTime": {
     "end_time": "2023-09-21T12:32:20.954489Z",
     "start_time": "2023-09-21T12:32:20.900341Z"
    }
   },
   "id": "351eacf2e8b90247"
  }
 ],
 "metadata": {
  "kernelspec": {
   "display_name": "Python 3",
   "language": "python",
   "name": "python3"
  },
  "language_info": {
   "codemirror_mode": {
    "name": "ipython",
    "version": 2
   },
   "file_extension": ".py",
   "mimetype": "text/x-python",
   "name": "python",
   "nbconvert_exporter": "python",
   "pygments_lexer": "ipython2",
   "version": "2.7.6"
  }
 },
 "nbformat": 4,
 "nbformat_minor": 5
}
